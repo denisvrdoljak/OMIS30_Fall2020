{
 "cells": [
  {
   "cell_type": "markdown",
   "metadata": {},
   "source": [
    "# Try-Except"
   ]
  },
  {
   "cell_type": "markdown",
   "metadata": {},
   "source": [
    "At times, we might encounter situations where an error occurs, and we want to be able to recover from it. Functions are a good example, as we don't know what a user might pass into a function. For this example, let's use range() to iterate through a few numbers, and print out the inverse of each."
   ]
  },
  {
   "cell_type": "code",
   "execution_count": 1,
   "metadata": {},
   "outputs": [
    {
     "name": "stdout",
     "output_type": "stream",
     "text": [
      "1/-2 = -0.5\n",
      "1/-1 = -1.0\n"
     ]
    },
    {
     "ename": "ZeroDivisionError",
     "evalue": "division by zero",
     "output_type": "error",
     "traceback": [
      "\u001b[0;31m---------------------------------------------------------------------------\u001b[0m",
      "\u001b[0;31mZeroDivisionError\u001b[0m                         Traceback (most recent call last)",
      "\u001b[0;32m<ipython-input-1-a93e7b1f2310>\u001b[0m in \u001b[0;36m<module>\u001b[0;34m()\u001b[0m\n\u001b[1;32m      1\u001b[0m \u001b[0;32mfor\u001b[0m \u001b[0mi\u001b[0m \u001b[0;32min\u001b[0m \u001b[0mrange\u001b[0m\u001b[0;34m(\u001b[0m\u001b[0;34m-\u001b[0m\u001b[0;36m2\u001b[0m\u001b[0;34m,\u001b[0m\u001b[0;36m2\u001b[0m\u001b[0;34m)\u001b[0m\u001b[0;34m:\u001b[0m\u001b[0;34m\u001b[0m\u001b[0m\n\u001b[0;32m----> 2\u001b[0;31m     \u001b[0mx\u001b[0m \u001b[0;34m=\u001b[0m \u001b[0;36m1\u001b[0m\u001b[0;34m/\u001b[0m\u001b[0mi\u001b[0m\u001b[0;34m\u001b[0m\u001b[0m\n\u001b[0m\u001b[1;32m      3\u001b[0m     \u001b[0mprint\u001b[0m\u001b[0;34m(\u001b[0m\u001b[0;34m\"1/{} = {}\"\u001b[0m\u001b[0;34m.\u001b[0m\u001b[0mformat\u001b[0m\u001b[0;34m(\u001b[0m\u001b[0mi\u001b[0m\u001b[0;34m,\u001b[0m\u001b[0mx\u001b[0m\u001b[0;34m)\u001b[0m\u001b[0;34m)\u001b[0m\u001b[0;34m\u001b[0m\u001b[0m\n",
      "\u001b[0;31mZeroDivisionError\u001b[0m: division by zero"
     ]
    }
   ],
   "source": [
    "for i in range(-2,2):\n",
    "    x = 1/i\n",
    "    print(\"1/{} = {}\".format(i,x))"
   ]
  },
  {
   "cell_type": "markdown",
   "metadata": {},
   "source": [
    "We get an error when we try to divide by 0, and our program stops. If we put this in a TRY block, we can catch the error, and run the code in the EXCEPT block if a error occurs. In this case, we'll just PASS (do nothing)"
   ]
  },
  {
   "cell_type": "code",
   "execution_count": 2,
   "metadata": {},
   "outputs": [
    {
     "name": "stdout",
     "output_type": "stream",
     "text": [
      "1/-2 = -0.5\n",
      "1/-1 = -1.0\n"
     ]
    }
   ],
   "source": [
    "try:\n",
    "    for i in range(-2,2):\n",
    "        x = 1/i\n",
    "        print(\"1/{} = {}\".format(i,x))\n",
    "except:\n",
    "    pass"
   ]
  },
  {
   "cell_type": "markdown",
   "metadata": {},
   "source": [
    "We can put code in the EXCEPT block to execute if we encounter an error. This can be code to let us know we got an error, or to do something to handle the error."
   ]
  },
  {
   "cell_type": "code",
   "execution_count": 3,
   "metadata": {},
   "outputs": [
    {
     "name": "stdout",
     "output_type": "stream",
     "text": [
      "1/-2 = -0.5\n",
      "1/-1 = -1.0\n",
      "We encountered an error.\n"
     ]
    }
   ],
   "source": [
    "try:\n",
    "    for i in range(-2,2):\n",
    "        x = 1/i\n",
    "        print(\"1/{} = {}\".format(i,x))\n",
    "except:\n",
    "    print(\"We encountered an error.\")"
   ]
  },
  {
   "cell_type": "markdown",
   "metadata": {},
   "source": [
    "the ELSE block will execute if there is no exception. In other words, if the EXCEPT isn't triggered, the ELSE will be instead"
   ]
  },
  {
   "cell_type": "code",
   "execution_count": 2,
   "metadata": {},
   "outputs": [
    {
     "name": "stdout",
     "output_type": "stream",
     "text": [
      "1/1 = 1.0\n",
      "Loop completed successfully\n"
     ]
    }
   ],
   "source": [
    "try:\n",
    "    for i in range(1,2):\n",
    "        x = 1/i\n",
    "        print(\"1/{} = {}\".format(i,x))\n",
    "except:\n",
    "    print(\"We encountered an error.\")\n",
    "else:\n",
    "    print(\"Loop completed successfully\")"
   ]
  },
  {
   "cell_type": "markdown",
   "metadata": {},
   "source": [
    "We can also put the try/except inside the for loop, and use the except to catch the error, but continue the loop for other values"
   ]
  },
  {
   "cell_type": "code",
   "execution_count": 10,
   "metadata": {},
   "outputs": [
    {
     "name": "stdout",
     "output_type": "stream",
     "text": [
      "1/-2 = -0.5\n",
      "1/-1 = -1.0\n",
      "error, skipping: 0\n",
      "1/1 = 1.0\n"
     ]
    }
   ],
   "source": [
    "for i in range(-2,2):\n",
    "    try:\n",
    "        x = 1/i\n",
    "        print(\"1/{} = {}\".format(i,x))\n",
    "    except:\n",
    "        print(\"error, skipping: {}\".format(i))"
   ]
  },
  {
   "cell_type": "markdown",
   "metadata": {
    "collapsed": true
   },
   "source": [
    "## Finally Block\n",
    "There are times where you will want to execute a block of code before the compiler exits after an error. In applications, this is usually to avoid an ungraceful shutdown and corrupted files. In analytics, it's often to close a file or a database connection.\n",
    "\n",
    "The FINALLY block executes at the end, regardless of whether an error occured. The following example shows the order of execution in the case of no error (first example), and with an error (secodn example)."
   ]
  },
  {
   "cell_type": "code",
   "execution_count": 15,
   "metadata": {},
   "outputs": [
    {
     "name": "stdout",
     "output_type": "stream",
     "text": [
      "try\n",
      "(no error)\n",
      "else\n",
      "finally\n"
     ]
    }
   ],
   "source": [
    "# no error\n",
    "try:\n",
    "    print('try')\n",
    "    1\n",
    "    print(\"(no error)\")\n",
    "except:\n",
    "    print(\"(error)\")\n",
    "    print('except')\n",
    "else:\n",
    "    print('else')\n",
    "finally:\n",
    "    print('finally')"
   ]
  },
  {
   "cell_type": "code",
   "execution_count": 16,
   "metadata": {},
   "outputs": [
    {
     "name": "stdout",
     "output_type": "stream",
     "text": [
      "try\n",
      "(error)\n",
      "except\n",
      "finally\n"
     ]
    }
   ],
   "source": [
    "# with error\n",
    "try:\n",
    "    print('try')\n",
    "    1/0\n",
    "    print(\"(no error)\")\n",
    "except:\n",
    "    print(\"(error)\")\n",
    "    print('except')\n",
    "else:\n",
    "    print('else')\n",
    "finally:\n",
    "    print('finally')"
   ]
  },
  {
   "cell_type": "code",
   "execution_count": null,
   "metadata": {},
   "outputs": [],
   "source": []
  }
 ],
 "metadata": {
  "kernelspec": {
   "display_name": "Python 3",
   "language": "python",
   "name": "python3"
  },
  "language_info": {
   "codemirror_mode": {
    "name": "ipython",
    "version": 3
   },
   "file_extension": ".py",
   "mimetype": "text/x-python",
   "name": "python",
   "nbconvert_exporter": "python",
   "pygments_lexer": "ipython3",
   "version": "3.7.1"
  }
 },
 "nbformat": 4,
 "nbformat_minor": 2
}

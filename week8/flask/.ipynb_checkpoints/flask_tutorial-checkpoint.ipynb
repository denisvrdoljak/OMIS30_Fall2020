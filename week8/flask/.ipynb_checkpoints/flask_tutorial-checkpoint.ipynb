{
 "cells": [
  {
   "cell_type": "markdown",
   "metadata": {},
   "source": [
    "# What is Flask"
   ]
  },
  {
   "cell_type": "markdown",
   "metadata": {},
   "source": [
    "Flask is a micro web framework powered by Python. Micro-frameworks are normally frameworks with little to no dependencies to external libraries. This makes Flask fairly small, making it easy to learn and simple to use. But also powerful enough to support enterprise-level applications handling large amounts of traffic. Flask was created by Armin Ronacher: \"It came out of an April Fool's joke but proved popular enough to make into a serious application in its own right.\" \n",
    "\n",
    "Pros: \n",
    "- the framework is light\n",
    "- there are little dependencies to update\n",
    "\n",
    "Cons:\n",
    "- as your apps needs grow your list of dependencies will grow\n",
    "- you will have to do a lot more work by yourself"
   ]
  },
  {
   "cell_type": "markdown",
   "metadata": {},
   "source": [
    "## Setup"
   ]
  },
  {
   "cell_type": "markdown",
   "metadata": {},
   "source": [
    "You're going to need pip and python3.6 or greater installed\n",
    "\n",
    "let's setup our development environment. Navigate to a place of your choosing and create a new project directory\n",
    "\n",
    "    $ mkdir flask-intro\n",
    "    $ cd flask-intro\n",
    "\n",
    "Now create a new development environment\n",
    "\n",
    "    $ python3 -m venv venv\n",
    "    $ source venv/bin/activate\n",
    "    \n",
    "you should now see a change in your prompt similar to this...\n",
    "\n",
    "    (venv) $ \n",
    "\n",
    "What we just did was create a special vertual environment that is designed to keep all of our dependencies for this project seperated from our machine and any other projects on our computers."
   ]
  },
  {
   "cell_type": "markdown",
   "metadata": {},
   "source": [
    "## Flask begins\n",
    "\n",
    "Now that you have a virtual environment created and activated, we can finally install Flask into it:\n",
    "\n",
    "    (venv) $ pip install flask\n",
    "    \n",
    "Now we will create our main application file and two subdirectories\n",
    "\n",
    "    $ touch app.py\n",
    "    $ mkdir static\n",
    "    $ mkdir templates\n",
    "    \n",
    "Our directory structure should look like this now...\n",
    "\n",
    "    ├── app.py\n",
    "    ├── static\n",
    "    ├── templates\n",
    "    └── venv\n",
    "    \n",
    "You should now open this directory in your code editor\n",
    "\n",
    "And insert into app.py the code below. I'll explain it in a moment."
   ]
  },
  {
   "cell_type": "code",
   "execution_count": null,
   "metadata": {
    "collapsed": true
   },
   "outputs": [],
   "source": [
    "# import the Flask class from the flask module\n",
    "from flask import Flask\n",
    "\n",
    "# create the application object\n",
    "app = Flask(__name__)\n",
    "\n",
    "# use decorators to link the function to a url\n",
    "@app.route('/')\n",
    "def home():\n",
    "    return \"Hello World\"\n",
    "\n",
    "# start the server with the 'run()' method\n",
    "if __name__ == '__main__':\n",
    "    app.run(debug=True)"
   ]
  },
  {
   "cell_type": "markdown",
   "metadata": {},
   "source": [
    "\n",
    "## A bit about Route\n",
    "\n",
    "The routes are the different URLs that the application implements. In Flask, handlers for the application routes are written as Python functions, called view functions. View functions are mapped to one or more route URLs so that Flask knows what logic to execute when a client requests a given URL.\n",
    "\n",
    "Our first view function is def home()\n",
    "\n",
    "This view function is actually pretty simple, it just returns a greeting as a string. The strange @app.route line above the function is a decorator, a unique feature of the Python language. A decorator modifies the function that follows it.\n",
    "\n",
    "    @app.route('/')          <----decorator\n",
    "    def home():              <----function name\n",
    "        return \"Hello World\" <----return string \"Hello World\""
   ]
  },
  {
   "cell_type": "markdown",
   "metadata": {},
   "source": [
    "Now let's start our development server and run it in our browser\n",
    "\n",
    "    $ python app.py\n",
    "    \n",
    "And open our browser at http://127.0.0.1:5000/"
   ]
  },
  {
   "cell_type": "markdown",
   "metadata": {},
   "source": [
    "![Hello world](attachment:Screen%20Shot%202018-11-11%20at%202.52.47%20PM.png)"
   ]
  },
  {
   "cell_type": "markdown",
   "metadata": {},
   "source": [
    "## Randon NumberGen\n",
    "\n",
    "let's add a few lines to our app.py    "
   ]
  },
  {
   "cell_type": "code",
   "execution_count": null,
   "metadata": {
    "collapsed": true
   },
   "outputs": [],
   "source": [
    "from numpy.random import rand # let's use numpy's random method\n",
    "from flask import Flask\n",
    "\n",
    "app = Flask(__name__)\n",
    "\n",
    "\n",
    "@app.route('/')\n",
    "def home():\n",
    "    return rand(1) # generate one random number\n",
    "\n",
    "\n",
    "if __name__ == '__main__':\n",
    "    app.run(debug=True)\n"
   ]
  },
  {
   "cell_type": "markdown",
   "metadata": {},
   "source": [
    "you will get an error...\n",
    "\n",
    "    ModuleNotFoundError: No module named 'numpy'\n",
    "    \n",
    "numpy must be installed\n",
    "\n",
    "    pip install numpy\n",
    "    \n",
    "now let's start up the development server again and see the results\n",
    "\n",
    "    python app.py\n",
    "    \n",
    "Reload your browser at http://127.0.0.1:5000/ \n",
    "\n",
    "You should see an error...\n",
    "\n",
    "![oops an error](attachment:Screen%20Shot%202018-11-11%20at%204.22.24%20PM.png)\n",
    "\n",
    "The error tells us \"The return type must be a string, tuple, ...etc... but it was a ndarray.\"\n",
    "\n",
    "To fix this we can simply change\n",
    "\n",
    "    rand(1)\n",
    "\n",
    "to\n",
    "\n",
    "    str(rand(1))\n",
    "    \n",
    "Now when we reload http://127.0.0.1:5000/ \n",
    "\n",
    "![random number works](attachment:Screen%20Shot%202018-11-11%20at%204.28.40%20PM.png)\n",
    "\n",
    "Play with the reload and notice at each GET request a new random number is created.\n",
    "\n",
    "![notice the GET request](attachment:Screen%20Shot%202018-11-11%20at%204.35.40%20PM.png)"
   ]
  },
  {
   "cell_type": "markdown",
   "metadata": {},
   "source": [
    "Congratulations you've just created your first Flask app. \n",
    "\n",
    "What have you learned?\n",
    "\n",
    "- what Flask is\n",
    "- basic Flask app structure\n",
    "- virtual environments\n",
    "- routes\n",
    "- decorators\n",
    "- installing moduals with pip\n",
    "- running a development server on your local computer"
   ]
  },
  {
   "cell_type": "code",
   "execution_count": null,
   "metadata": {
    "collapsed": true
   },
   "outputs": [],
   "source": []
  }
 ],
 "metadata": {
  "kernelspec": {
   "display_name": "Python 3",
   "language": "python",
   "name": "python3"
  },
  "language_info": {
   "codemirror_mode": {
    "name": "ipython",
    "version": 3
   },
   "file_extension": ".py",
   "mimetype": "text/x-python",
   "name": "python",
   "nbconvert_exporter": "python",
   "pygments_lexer": "ipython3",
   "version": "3.8.3"
  }
 },
 "nbformat": 4,
 "nbformat_minor": 2
}

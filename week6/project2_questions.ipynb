{
 "cells": [
  {
   "cell_type": "code",
   "execution_count": 9,
   "metadata": {},
   "outputs": [
    {
     "data": {
      "text/plain": [
       "[2, 3, 4, 5, 6, 7, 8, 9, 10, 'J', 'Q', 'K', 'A']"
      ]
     },
     "execution_count": 9,
     "metadata": {},
     "output_type": "execute_result"
    }
   ],
   "source": [
    "faces_values = list(range(2,11)) + ['J','Q','K','A']\n",
    "faces_values"
   ]
  },
  {
   "cell_type": "code",
   "execution_count": 10,
   "metadata": {},
   "outputs": [],
   "source": [
    "suits = ['Spades','Hearts','Clubs','Diamonds']"
   ]
  },
  {
   "cell_type": "code",
   "execution_count": 13,
   "metadata": {},
   "outputs": [],
   "source": [
    "deck = []\n",
    "for face in faces_values:\n",
    "    for suit in suits:\n",
    "        deck.append((suit,face))"
   ]
  },
  {
   "cell_type": "code",
   "execution_count": 14,
   "metadata": {},
   "outputs": [
    {
     "data": {
      "text/plain": [
       "52"
      ]
     },
     "execution_count": 14,
     "metadata": {},
     "output_type": "execute_result"
    }
   ],
   "source": [
    "len(deck)"
   ]
  },
  {
   "cell_type": "code",
   "execution_count": 17,
   "metadata": {},
   "outputs": [
    {
     "data": {
      "text/plain": [
       "[('Spades', 2),\n",
       " ('Hearts', 2),\n",
       " ('Clubs', 2),\n",
       " ('Diamonds', 2),\n",
       " ('Spades', 3),\n",
       " ('Hearts', 3),\n",
       " ('Clubs', 3),\n",
       " ('Diamonds', 3),\n",
       " ('Spades', 4),\n",
       " ('Hearts', 4),\n",
       " ('Clubs', 4),\n",
       " ('Diamonds', 4),\n",
       " ('Spades', 5),\n",
       " ('Hearts', 5),\n",
       " ('Clubs', 5),\n",
       " ('Diamonds', 5),\n",
       " ('Spades', 6),\n",
       " ('Hearts', 6),\n",
       " ('Clubs', 6),\n",
       " ('Diamonds', 6),\n",
       " ('Spades', 7),\n",
       " ('Hearts', 7),\n",
       " ('Clubs', 7),\n",
       " ('Diamonds', 7),\n",
       " ('Spades', 8),\n",
       " ('Hearts', 8),\n",
       " ('Clubs', 8),\n",
       " ('Diamonds', 8),\n",
       " ('Spades', 9),\n",
       " ('Hearts', 9),\n",
       " ('Clubs', 9),\n",
       " ('Diamonds', 9),\n",
       " ('Spades', 10),\n",
       " ('Hearts', 10),\n",
       " ('Clubs', 10),\n",
       " ('Diamonds', 10),\n",
       " ('Spades', 'J'),\n",
       " ('Hearts', 'J'),\n",
       " ('Clubs', 'J'),\n",
       " ('Diamonds', 'J'),\n",
       " ('Spades', 'Q'),\n",
       " ('Hearts', 'Q'),\n",
       " ('Clubs', 'Q'),\n",
       " ('Diamonds', 'Q'),\n",
       " ('Spades', 'K'),\n",
       " ('Hearts', 'K'),\n",
       " ('Clubs', 'K'),\n",
       " ('Diamonds', 'K'),\n",
       " ('Spades', 'A'),\n",
       " ('Hearts', 'A'),\n",
       " ('Clubs', 'A'),\n",
       " ('Diamonds', 'A'),\n",
       " ('Spades', 2),\n",
       " ('Hearts', 2),\n",
       " ('Clubs', 2),\n",
       " ('Diamonds', 2),\n",
       " ('Spades', 3),\n",
       " ('Hearts', 3),\n",
       " ('Clubs', 3),\n",
       " ('Diamonds', 3),\n",
       " ('Spades', 4),\n",
       " ('Hearts', 4),\n",
       " ('Clubs', 4),\n",
       " ('Diamonds', 4),\n",
       " ('Spades', 5),\n",
       " ('Hearts', 5),\n",
       " ('Clubs', 5),\n",
       " ('Diamonds', 5),\n",
       " ('Spades', 6),\n",
       " ('Hearts', 6),\n",
       " ('Clubs', 6),\n",
       " ('Diamonds', 6),\n",
       " ('Spades', 7),\n",
       " ('Hearts', 7),\n",
       " ('Clubs', 7),\n",
       " ('Diamonds', 7),\n",
       " ('Spades', 8),\n",
       " ('Hearts', 8),\n",
       " ('Clubs', 8),\n",
       " ('Diamonds', 8),\n",
       " ('Spades', 9),\n",
       " ('Hearts', 9),\n",
       " ('Clubs', 9),\n",
       " ('Diamonds', 9),\n",
       " ('Spades', 10),\n",
       " ('Hearts', 10),\n",
       " ('Clubs', 10),\n",
       " ('Diamonds', 10),\n",
       " ('Spades', 'J'),\n",
       " ('Hearts', 'J'),\n",
       " ('Clubs', 'J'),\n",
       " ('Diamonds', 'J'),\n",
       " ('Spades', 'Q'),\n",
       " ('Hearts', 'Q'),\n",
       " ('Clubs', 'Q'),\n",
       " ('Diamonds', 'Q'),\n",
       " ('Spades', 'K'),\n",
       " ('Hearts', 'K'),\n",
       " ('Clubs', 'K'),\n",
       " ('Diamonds', 'K'),\n",
       " ('Spades', 'A'),\n",
       " ('Hearts', 'A'),\n",
       " ('Clubs', 'A'),\n",
       " ('Diamonds', 'A')]"
      ]
     },
     "execution_count": 17,
     "metadata": {},
     "output_type": "execute_result"
    }
   ],
   "source": [
    "deck * 2"
   ]
  },
  {
   "cell_type": "code",
   "execution_count": null,
   "metadata": {},
   "outputs": [],
   "source": []
  }
 ],
 "metadata": {
  "kernelspec": {
   "display_name": "Python 3",
   "language": "python",
   "name": "python3"
  },
  "language_info": {
   "codemirror_mode": {
    "name": "ipython",
    "version": 3
   },
   "file_extension": ".py",
   "mimetype": "text/x-python",
   "name": "python",
   "nbconvert_exporter": "python",
   "pygments_lexer": "ipython3",
   "version": "3.7.4"
  }
 },
 "nbformat": 4,
 "nbformat_minor": 2
}

{
 "cells": [
  {
   "cell_type": "markdown",
   "metadata": {},
   "source": [
    "# Working with Strings and CSV's"
   ]
  },
  {
   "cell_type": "markdown",
   "metadata": {},
   "source": [
    "## 1. Create a sample.csv file\n",
    "\n",
    "Paste your code to create a sample.csv, using only the first 7 lines of your original .csv file"
   ]
  },
  {
   "cell_type": "code",
   "execution_count": 21,
   "metadata": {},
   "outputs": [],
   "source": [
    "# Paste command line script/commands here"
   ]
  },
  {
   "cell_type": "markdown",
   "metadata": {},
   "source": [
    "### Help Function\n",
    "You can open the csv file with the following lines of code (OPTIONAL)"
   ]
  },
  {
   "cell_type": "code",
   "execution_count": 1,
   "metadata": {},
   "outputs": [
    {
     "data": {
      "text/plain": [
       "'\\ufeffX,Y,OBJECTID,DESCRIPTION,JURISDICTION,CreationDate,Creator,EditDate,Editor\\n11842963.328,6989151.433,1,NOVA NORTHERN VIRGINIA COMMUNITY COLLEGE,COUNTY OF FAIRFAX,2020/10/10 05:03:49.615+00,FairfaxCounty,2020/10/10 05:03:49.615+00,FairfaxCounty\\n11822748.747,6987760.897,2,GEORGE MASON UNIVERSITY,COUNTY OF FAIRFAX,2020/10/10 05:03:49.615+00,FairfaxCounty,2020/10/10 05:03:49.615+00,FairfaxCounty\\n'"
      ]
     },
     "execution_count": 1,
     "metadata": {},
     "output_type": "execute_result"
    }
   ],
   "source": [
    "with open(\"sample.csv\") as fp:\n",
    "    data = fp.read()\n",
    "data"
   ]
  },
  {
   "cell_type": "markdown",
   "metadata": {},
   "source": [
    "### Create the 'data' variable\n",
    "Or, you can just cut/past you data into here"
   ]
  },
  {
   "cell_type": "code",
   "execution_count": 23,
   "metadata": {},
   "outputs": [
    {
     "data": {
      "text/plain": [
       "'X,Y,OBJECTID,DESCRIPTION,JURISDICTION,CreationDate,Creator,EditDate,Editor\\n11842963.328,6989151.433,1,NOVA NORTHERN VIRGINIA COMMUNITY COLLEGE,COUNTY OF FAIRFAX,2020/10/10 05:03:49.615+00,FairfaxCounty,2020/10/10 05:03:49.615+00,FairfaxCounty\\n11822748.747,6987760.897,2,GEORGE MASON UNIVERSITY,COUNTY OF FAIRFAX,2020/10/10 05:03:49.615+00,FairfaxCounty,2020/10/10 05:03:49.615+00,FairfaxCounty'"
      ]
     },
     "execution_count": 23,
     "metadata": {},
     "output_type": "execute_result"
    }
   ],
   "source": [
    "data = \"\"\"\n",
    "X,Y,OBJECTID,DESCRIPTION,JURISDICTION,CreationDate,Creator,EditDate,Editor\n",
    "11842963.328,6989151.433,1,NOVA NORTHERN VIRGINIA COMMUNITY COLLEGE,COUNTY OF FAIRFAX,2020/10/10 05:03:49.615+00,FairfaxCounty,2020/10/10 05:03:49.615+00,FairfaxCounty\n",
    "11822748.747,6987760.897,2,GEORGE MASON UNIVERSITY,COUNTY OF FAIRFAX,2020/10/10 05:03:49.615+00,FairfaxCounty,2020/10/10 05:03:49.615+00,FairfaxCounty\n",
    "\"\"\".strip()\n",
    "data"
   ]
  },
  {
   "cell_type": "markdown",
   "metadata": {},
   "source": [
    "## 2. Get the columns headers as a string\n",
    "by manipulating the 'data' variable"
   ]
  },
  {
   "cell_type": "code",
   "execution_count": 12,
   "metadata": {},
   "outputs": [
    {
     "data": {
      "text/plain": [
       "'X,Y,OBJECTID,DESCRIPTION,JURISDICTION,CreationDate,Creator,EditDate,Editor'"
      ]
     },
     "execution_count": 12,
     "metadata": {},
     "output_type": "execute_result"
    }
   ],
   "source": [
    "# Your code here"
   ]
  },
  {
   "cell_type": "markdown",
   "metadata": {},
   "source": [
    "## 3. Convert the column headers into a list of strings"
   ]
  },
  {
   "cell_type": "code",
   "execution_count": 13,
   "metadata": {},
   "outputs": [
    {
     "data": {
      "text/plain": [
       "['X',\n",
       " 'Y',\n",
       " 'OBJECTID',\n",
       " 'DESCRIPTION',\n",
       " 'JURISDICTION',\n",
       " 'CreationDate',\n",
       " 'Creator',\n",
       " 'EditDate',\n",
       " 'Editor']"
      ]
     },
     "execution_count": 13,
     "metadata": {},
     "output_type": "execute_result"
    }
   ],
   "source": [
    "# Your code here"
   ]
  },
  {
   "cell_type": "markdown",
   "metadata": {},
   "source": [
    "## 4. Manipulate the 'data' variable to get a list of list of strings, that hold the data in a 2-D array (list of lists)"
   ]
  },
  {
   "cell_type": "code",
   "execution_count": null,
   "metadata": {},
   "outputs": [],
   "source": [
    "data.split('\\n')[0] #from lab\n",
    "data.split('\\n')[0].split(',') #from lab"
   ]
  },
  {
   "cell_type": "code",
   "execution_count": 33,
   "metadata": {},
   "outputs": [
    {
     "data": {
      "text/plain": [
       "[['X',\n",
       "  'Y',\n",
       "  'OBJECTID',\n",
       "  'DESCRIPTION',\n",
       "  'JURISDICTION',\n",
       "  'CreationDate',\n",
       "  'Creator',\n",
       "  'EditDate',\n",
       "  'Editor'],\n",
       " ['11842963.328',\n",
       "  '6989151.433',\n",
       "  '1',\n",
       "  'NOVA NORTHERN VIRGINIA COMMUNITY COLLEGE',\n",
       "  'COUNTY OF FAIRFAX',\n",
       "  '2020/10/10 05:03:49.615+00',\n",
       "  'FairfaxCounty',\n",
       "  '2020/10/10 05:03:49.615+00',\n",
       "  'FairfaxCounty'],\n",
       " ['11822748.747',\n",
       "  '6987760.897',\n",
       "  '2',\n",
       "  'GEORGE MASON UNIVERSITY',\n",
       "  'COUNTY OF FAIRFAX',\n",
       "  '2020/10/10 05:03:49.615+00',\n",
       "  'FairfaxCounty',\n",
       "  '2020/10/10 05:03:49.615+00',\n",
       "  'FairfaxCounty']]"
      ]
     },
     "execution_count": 33,
     "metadata": {},
     "output_type": "execute_result"
    }
   ],
   "source": [
    "# Your code goes here"
   ]
  },
  {
   "cell_type": "markdown",
   "metadata": {},
   "source": [
    "## 5. Now, get the data *without* the column header out as a list of list of strings.\n",
    "Basically, do the same as the above (part 4), but skipping the column header row."
   ]
  },
  {
   "cell_type": "code",
   "execution_count": 32,
   "metadata": {},
   "outputs": [
    {
     "data": {
      "text/plain": [
       "[['11842963.328',\n",
       "  '6989151.433',\n",
       "  '1',\n",
       "  'NOVA NORTHERN VIRGINIA COMMUNITY COLLEGE',\n",
       "  'COUNTY OF FAIRFAX',\n",
       "  '2020/10/10 05:03:49.615+00',\n",
       "  'FairfaxCounty',\n",
       "  '2020/10/10 05:03:49.615+00',\n",
       "  'FairfaxCounty'],\n",
       " ['11822748.747',\n",
       "  '6987760.897',\n",
       "  '2',\n",
       "  'GEORGE MASON UNIVERSITY',\n",
       "  'COUNTY OF FAIRFAX',\n",
       "  '2020/10/10 05:03:49.615+00',\n",
       "  'FairfaxCounty',\n",
       "  '2020/10/10 05:03:49.615+00',\n",
       "  'FairfaxCounty']]"
      ]
     },
     "execution_count": 32,
     "metadata": {},
     "output_type": "execute_result"
    }
   ],
   "source": [
    "# Your code goes here"
   ]
  }
 ],
 "metadata": {
  "kernelspec": {
   "display_name": "Python 3",
   "language": "python",
   "name": "python3"
  },
  "language_info": {
   "codemirror_mode": {
    "name": "ipython",
    "version": 3
   },
   "file_extension": ".py",
   "mimetype": "text/x-python",
   "name": "python",
   "nbconvert_exporter": "python",
   "pygments_lexer": "ipython3",
   "version": "3.7.1"
  }
 },
 "nbformat": 4,
 "nbformat_minor": 2
}

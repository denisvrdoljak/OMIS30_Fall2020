{
 "cells": [
  {
   "cell_type": "code",
   "execution_count": 1,
   "metadata": {},
   "outputs": [],
   "source": [
    "import random"
   ]
  },
  {
   "cell_type": "code",
   "execution_count": 2,
   "metadata": {},
   "outputs": [
    {
     "data": {
      "text/plain": [
       "[3, 2, 1]"
      ]
     },
     "execution_count": 2,
     "metadata": {},
     "output_type": "execute_result"
    }
   ],
   "source": [
    "mylist = [1,2,3]\n",
    "random.shuffle(mylist)\n",
    "mylist"
   ]
  },
  {
   "cell_type": "code",
   "execution_count": 19,
   "metadata": {},
   "outputs": [
    {
     "data": {
      "text/plain": [
       "'dabecf'"
      ]
     },
     "execution_count": 19,
     "metadata": {},
     "output_type": "execute_result"
    }
   ],
   "source": [
    "def shuffleletters(inputstring):\n",
    "    letters = list(inputstring)\n",
    "    random.shuffle(letters)\n",
    "    return ''.join(letters)\n",
    "shuffleletters('abcdef')"
   ]
  },
  {
   "cell_type": "markdown",
   "metadata": {},
   "source": [
    "## Pig Latin\n",
    "* Take the letter(s) from the beginning, up to the first vowel, and put at end. If the first letter is a vowel, then do not move any letters.\n",
    "* Add 'ay' to the end.\n",
    "### Examples\n",
    "denis -> enisday\n",
    "\n",
    "early -> earlyay\n",
    "\n",
    "paul -> ualpay"
   ]
  },
  {
   "cell_type": "markdown",
   "metadata": {},
   "source": [
    "### with a FOR loop"
   ]
  },
  {
   "cell_type": "code",
   "execution_count": 37,
   "metadata": {},
   "outputs": [
    {
     "name": "stdout",
     "output_type": "stream",
     "text": [
      "inputed: paul went to the store\n",
      "words to list: ['paul', 'went', 'to', 'the', 'store']\n",
      "found vowel (a) in word (paul)\n",
      "found vowel (e) in word (went)\n",
      "found vowel (o) in word (to)\n",
      "found vowel (e) in word (the)\n",
      "found vowel (o) in word (store)\n"
     ]
    },
    {
     "data": {
      "text/plain": [
       "'aulpay entway otay ethay orestay'"
      ]
     },
     "execution_count": 37,
     "metadata": {},
     "output_type": "execute_result"
    }
   ],
   "source": [
    "def piglatin(inputstring):\n",
    "    print(\"inputed: {}\".format(inputstring))\n",
    "    vowels = ['a','e','i','o','u']\n",
    "    piglatin = []\n",
    "    print(\"words to list: {}\".format(inputstring.split()))\n",
    "    for word in inputstring.split():\n",
    "        if word[0] in vowels:\n",
    "            print('appending {}'.format(word))\n",
    "            piglatin.append(word+'ay')\n",
    "            print('piglatin after append: {}'.format(piglatin))\n",
    "        else:\n",
    "            for letter in word:\n",
    "                if letter in vowels:\n",
    "                    print('found vowel ({}) in word ({})'.format(letter,word))\n",
    "                    piglatin.append(word[word.index(letter):]+word[:word.index(letter)]+'ay')\n",
    "                    break\n",
    "    return ' '.join(piglatin)\n",
    "piglatin('paul went to the store')"
   ]
  },
  {
   "cell_type": "markdown",
   "metadata": {},
   "source": [
    "### with a WHILE loop"
   ]
  },
  {
   "cell_type": "code",
   "execution_count": 40,
   "metadata": {},
   "outputs": [
    {
     "data": {
      "text/plain": [
       "'aulpay'"
      ]
     },
     "execution_count": 40,
     "metadata": {},
     "output_type": "execute_result"
    }
   ],
   "source": [
    "def piglatin(inputstring):\n",
    "    vowels = ['a','e','i','o','u']\n",
    "    i = 0\n",
    "    while i < len(inputstring):\n",
    "        if inputstring[i] in vowels:\n",
    "            break\n",
    "        i+=1\n",
    "    return inputstring[i:] + inputstring[:i] + 'ay'\n",
    "piglatin('paul')"
   ]
  },
  {
   "cell_type": "markdown",
   "metadata": {},
   "source": [
    "### converted to a FOR loop"
   ]
  },
  {
   "cell_type": "code",
   "execution_count": 46,
   "metadata": {},
   "outputs": [
    {
     "data": {
      "text/plain": [
       "'aulpay'"
      ]
     },
     "execution_count": 46,
     "metadata": {},
     "output_type": "execute_result"
    }
   ],
   "source": [
    "def piglatin(inputstring):\n",
    "    vowels = ['a','e','i','o','u']\n",
    "    for i in range(len(inputstring)):\n",
    "        if inputstring[i] in vowels:\n",
    "            return inputstring[i:] + inputstring[:i] + 'ay'\n",
    "piglatin('paul')"
   ]
  },
  {
   "cell_type": "markdown",
   "metadata": {},
   "source": [
    "### converted to a FOR loop, using enumerate()\n",
    "\n"
   ]
  },
  {
   "cell_type": "code",
   "execution_count": 45,
   "metadata": {},
   "outputs": [
    {
     "data": {
      "text/plain": [
       "'aulpay'"
      ]
     },
     "execution_count": 45,
     "metadata": {},
     "output_type": "execute_result"
    }
   ],
   "source": [
    "def piglatin(inputstring):\n",
    "    vowels = ['a','e','i','o','u']\n",
    "    for i,letter in enumerate(inputstring):\n",
    "        if letter in vowels:\n",
    "            return inputstring[i:] + inputstring[:i] + 'ay'\n",
    "\n",
    "piglatin('paul')"
   ]
  },
  {
   "cell_type": "code",
   "execution_count": 49,
   "metadata": {},
   "outputs": [
    {
     "data": {
      "text/plain": [
       "120"
      ]
     },
     "execution_count": 49,
     "metadata": {},
     "output_type": "execute_result"
    }
   ],
   "source": [
    "def myfactorial(inputint):\n",
    "    result = 1\n",
    "    for i in range(1,inputint+1):\n",
    "        result *= i\n",
    "    return result\n",
    "myfactorial(5)"
   ]
  },
  {
   "cell_type": "code",
   "execution_count": null,
   "metadata": {},
   "outputs": [],
   "source": []
  }
 ],
 "metadata": {
  "kernelspec": {
   "display_name": "Python 3",
   "language": "python",
   "name": "python3"
  },
  "language_info": {
   "codemirror_mode": {
    "name": "ipython",
    "version": 3
   },
   "file_extension": ".py",
   "mimetype": "text/x-python",
   "name": "python",
   "nbconvert_exporter": "python",
   "pygments_lexer": "ipython3",
   "version": "3.7.1"
  }
 },
 "nbformat": 4,
 "nbformat_minor": 2
}

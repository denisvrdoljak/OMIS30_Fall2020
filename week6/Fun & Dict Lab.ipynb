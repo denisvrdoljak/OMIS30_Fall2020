{
 "cells": [
  {
   "cell_type": "markdown",
   "metadata": {},
   "source": [
    "# Welcome to the Fun & Dict Lab"
   ]
  },
  {
   "cell_type": "markdown",
   "metadata": {},
   "source": [
    "### Couple of lists you need before we start baking"
   ]
  },
  {
   "cell_type": "code",
   "execution_count": 93,
   "metadata": {},
   "outputs": [],
   "source": [
    "material_list = ['onion', 'egg', 'cucumber', 'eggplant', 'pasta', 'tomato','butter','rice','garlic','snail']\n",
    "R_eggsouffle = [\"egg\", \"milk\", \"butter\"]\n",
    "R_escargot = [\"snail\",'garlic','wine','butter']\n",
    "R_FriedRice_v1 = [\"onion\", 'rice', 'egg']\n"
   ]
  },
  {
   "cell_type": "markdown",
   "metadata": {},
   "source": [
    "### We want to check if our material can make any of these recipes"
   ]
  },
  {
   "cell_type": "markdown",
   "metadata": {},
   "source": [
    "## Part A"
   ]
  },
  {
   "cell_type": "markdown",
   "metadata": {},
   "source": [
    "### The objective here is to make a function that checks\n",
    "    - if your ingredients can make eggsouffle, escargot, FriedRice_v1 or not\n",
    "    \n",
    "#### Basically if we pass down the recipe name into a function, it should tell me whether we can make that recipe with the ingredients in material_list or not \n",
    "    - for example, if your function is Enough(R)\n",
    "    - if you pass Enough(\"FriedRice_v1\"), the result will be yes, you can make FriedRice_v1\n",
    "    - but if you pass Enough(\"escargot\"), the result will be no, you don't have enough ingredients"
   ]
  },
  {
   "cell_type": "code",
   "execution_count": 15,
   "metadata": {},
   "outputs": [],
   "source": [
    "##### student code here ######\n",
    "\n",
    "\n",
    "\n",
    "\n",
    "\n",
    "\n",
    "\n",
    "\n",
    "\n",
    "\n",
    "\n",
    "\n",
    "\n",
    "\n",
    "\n",
    "\n",
    "\n",
    "\n"
   ]
  },
  {
   "cell_type": "markdown",
   "metadata": {},
   "source": [
    "Enough(\"FriedRice_v1\")"
   ]
  },
  {
   "cell_type": "code",
   "execution_count": 115,
   "metadata": {},
   "outputs": [],
   "source": []
  },
  {
   "cell_type": "markdown",
   "metadata": {},
   "source": [
    "### Now Let's do the same thing using dictionary"
   ]
  },
  {
   "cell_type": "markdown",
   "metadata": {},
   "source": [
    "#### First, let's make a dictionary with all the recipes inside "
   ]
  },
  {
   "cell_type": "code",
   "execution_count": 1,
   "metadata": {},
   "outputs": [],
   "source": [
    "##### student code here ######\n",
    "\n",
    "\n"
   ]
  },
  {
   "cell_type": "markdown",
   "metadata": {},
   "source": [
    "### Now, let's solve part A using dictionary"
   ]
  },
  {
   "cell_type": "code",
   "execution_count": null,
   "metadata": {},
   "outputs": [],
   "source": []
  },
  {
   "cell_type": "markdown",
   "metadata": {},
   "source": [
    "## Part B\n",
    "\n",
    "### Now Chef Robinson knows the exact quantities of the ingredients he has.\n",
    "    - 'onion' 150g , 'egg' 200g, 'cucumber' 300g, 'eggplant' 400g, 'pasta' 300g \n",
    "    - 'tomato' 100g ,'butter' 420g ,'rice' 500g ,'garlic' 600g, 'snail' 2000g\n",
    "    \n",
    "### Make a dictionary that tells Chef Robinson how much of each ingredients he has \n",
    "    - Using tuples"
   ]
  },
  {
   "cell_type": "code",
   "execution_count": 2,
   "metadata": {},
   "outputs": [],
   "source": [
    "##### student code here ######"
   ]
  },
  {
   "cell_type": "markdown",
   "metadata": {},
   "source": [
    "## Bonus: Secret Perks if get it right"
   ]
  },
  {
   "cell_type": "markdown",
   "metadata": {},
   "source": [
    "### Right now, you have a dictionary of recipes, a dictionary of ingredients with its quantity\n",
    "\n",
    "### Here is a bonus question.\n",
    "\n",
    "### If Chef Robinson also knows about the quality of its ingredients, can you make a dictionary with the same key but holds more than one value? And then write a function that tells you how much ingredient you have in hand and how are their qualities?\n",
    "\n",
    "    Required data:\n",
    "    - 'onion' old , 'egg' fresh, 'cucumber' fresh, 'eggplant' dry, 'pasta' old\n",
    "    - 'tomato' fresh ,'butter' bad ,'rice' good ,'garlic' great, 'snail' Hannibal\n",
    "    \n",
    "    Requirements:\n",
    "    - You can not manually input them... Lame XD\n",
    "    - You have to deal with 2 dictionaries with the same keys\n",
    "    - You have to use Functions and dictionaries\n",
    "    \n",
    "    Desired output:\n",
    "    - if you put the KEY onion in the dictionary, you should get both Quantity and Quality\n",
    "    - The output of the function should be \"You have X amount of an ingredient on hand and they are Y quality\""
   ]
  },
  {
   "cell_type": "code",
   "execution_count": null,
   "metadata": {},
   "outputs": [],
   "source": [
    "##### student code here ######"
   ]
  }
 ],
 "metadata": {
  "kernelspec": {
   "display_name": "Python 3",
   "language": "python",
   "name": "python3"
  },
  "language_info": {
   "codemirror_mode": {
    "name": "ipython",
    "version": 3
   },
   "file_extension": ".py",
   "mimetype": "text/x-python",
   "name": "python",
   "nbconvert_exporter": "python",
   "pygments_lexer": "ipython3",
   "version": "3.8.3"
  }
 },
 "nbformat": 4,
 "nbformat_minor": 4
}

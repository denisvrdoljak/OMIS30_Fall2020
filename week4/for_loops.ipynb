{
 "cells": [
  {
   "cell_type": "markdown",
   "metadata": {},
   "source": [
    "# FOR Loops\n",
    "\n",
    "Let's start by looking back at WHILE loops"
   ]
  },
  {
   "cell_type": "code",
   "execution_count": 15,
   "metadata": {},
   "outputs": [
    {
     "name": "stdout",
     "output_type": "stream",
     "text": [
      "cat found in the barn\n",
      "dog found in the barn\n",
      "elephant found in the barn\n",
      "giraffe found in the barn\n"
     ]
    }
   ],
   "source": [
    "barn = ['cat','dog','elephant','giraffe']\n",
    "i=0\n",
    "# i is a counter that will help us iterate through the list\n",
    "# when i gets to the end of the list, the loop will stop\n",
    "while i < len(barn):\n",
    "    print(barn[i] + \" found in the barn\")\n",
    "    i += 1\n",
    "    #increment counter"
   ]
  },
  {
   "cell_type": "markdown",
   "metadata": {},
   "source": [
    "With a FOR loop, we can iterate through a list without a counter object, and without indexing."
   ]
  },
  {
   "cell_type": "code",
   "execution_count": 16,
   "metadata": {},
   "outputs": [
    {
     "name": "stdout",
     "output_type": "stream",
     "text": [
      "cat found in the barn\n",
      "dog found in the barn\n",
      "elephant found in the barn\n",
      "giraffe found in the barn\n",
      "pig found in the barn\n"
     ]
    }
   ],
   "source": [
    "# Simple for loop\n",
    "barn = ['cat','dog','elephant','giraffe','pig']\n",
    "\n",
    "for animal in barn:\n",
    "    print(animal + \" found in the barn\")"
   ]
  },
  {
   "cell_type": "markdown",
   "metadata": {},
   "source": [
    "And, if we still want to keep track of the index/counter as we iterate, we can use the enumerate() built-in function."
   ]
  },
  {
   "cell_type": "code",
   "execution_count": 17,
   "metadata": {},
   "outputs": [
    {
     "name": "stdout",
     "output_type": "stream",
     "text": [
      "cat found in the barn\n",
      "dog found in the barn\n",
      "elephant found in the barn\n",
      "giraffe found in the barn\n"
     ]
    }
   ],
   "source": [
    "barn = ['cat','dog','elephant','giraffe']\n",
    "for i,animal in enumerate(barn):\n",
    "    print(barn[i] + \" found in the barn\")\n"
   ]
  },
  {
   "cell_type": "markdown",
   "metadata": {},
   "source": [
    "All of our other loop variations also work"
   ]
  },
  {
   "cell_type": "code",
   "execution_count": 18,
   "metadata": {},
   "outputs": [
    {
     "name": "stdout",
     "output_type": "stream",
     "text": [
      "cat found in the barn\n",
      "dog found in the barn\n",
      "elephant found in the barn\n",
      "--->\t\tThat's a big elephant!\n",
      "giraffe found in the barn\n",
      "--->\t\tThat's a big giraffe!\n",
      "pig found in the barn\n"
     ]
    }
   ],
   "source": [
    "# FOR for with if statement\n",
    "barn = ['cat','dog','elephant','giraffe','pig']\n",
    "for animal in barn:\n",
    "    print(animal + \" found in the barn\")\n",
    "    if len(animal) > 3:\n",
    "        print(\"--->\\t\\tThat's a big \"+animal+\"!\")"
   ]
  },
  {
   "cell_type": "markdown",
   "metadata": {},
   "source": [
    "The BREAK statement works the same in an IF loop as it does in a WHILE loop."
   ]
  },
  {
   "cell_type": "code",
   "execution_count": 26,
   "metadata": {},
   "outputs": [
    {
     "name": "stdout",
     "output_type": "stream",
     "text": [
      "cat found in the barn\n",
      "dog found in the barn\n",
      "elephant found in the barn\n",
      "\tThat's a big elephant! It won't fit in a barn...let's just stop (break) here.\n"
     ]
    }
   ],
   "source": [
    "# FOR loop with if, break\n",
    "barn = ['cat','dog','elephant','giraffe','pig']\n",
    "for animal in barn:\n",
    "    print(animal + \" found in the barn\")\n",
    "    if len(animal) > 3:\n",
    "        print(\"\\tThat's a big \"+animal+\"! It won't fit in a barn...let's just stop (break) here.\")\n",
    "        break"
   ]
  },
  {
   "cell_type": "markdown",
   "metadata": {},
   "source": [
    "We can also make nested FOR loops."
   ]
  },
  {
   "cell_type": "code",
   "execution_count": 23,
   "metadata": {},
   "outputs": [
    {
     "name": "stdout",
     "output_type": "stream",
     "text": [
      "cat is spelled: c - a - t - \n",
      "dog is spelled: d - o - g - \n",
      "elephant is spelled: e - l - e - p - h - a - n - t - \n",
      "giraffe is spelled: g - i - r - a - f - f - e - \n",
      "pig is spelled: p - i - g - \n"
     ]
    }
   ],
   "source": [
    "for animal in barn:\n",
    "    print(\"{} is spelled: \".format(animal),end='')\n",
    "    for letter in animal:\n",
    "        print(letter,end=' - ')\n",
    "    print()\n",
    "    #print newline character"
   ]
  },
  {
   "cell_type": "code",
   "execution_count": null,
   "metadata": {},
   "outputs": [],
   "source": []
  }
 ],
 "metadata": {
  "kernelspec": {
   "display_name": "Python 3",
   "language": "python",
   "name": "python3"
  },
  "language_info": {
   "codemirror_mode": {
    "name": "ipython",
    "version": 3
   },
   "file_extension": ".py",
   "mimetype": "text/x-python",
   "name": "python",
   "nbconvert_exporter": "python",
   "pygments_lexer": "ipython3",
   "version": "3.7.1"
  }
 },
 "nbformat": 4,
 "nbformat_minor": 2
}

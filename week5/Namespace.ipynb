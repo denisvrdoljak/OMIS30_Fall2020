{
 "cells": [
  {
   "cell_type": "markdown",
   "metadata": {
    "collapsed": true
   },
   "source": [
    "# Namespace"
   ]
  },
  {
   "cell_type": "markdown",
   "metadata": {},
   "source": [
    "We can't use variables that aren't in the local namespace of a function. Here, mydigit is in the global namespace, but not the function's local namespace, so we get an error."
   ]
  },
  {
   "cell_type": "code",
   "execution_count": 43,
   "metadata": {},
   "outputs": [
    {
     "ename": "UnboundLocalError",
     "evalue": "local variable 'mydigit' referenced before assignment",
     "output_type": "error",
     "traceback": [
      "\u001b[0;31m---------------------------------------------------------------------------\u001b[0m",
      "\u001b[0;31mUnboundLocalError\u001b[0m                         Traceback (most recent call last)",
      "\u001b[0;32m<ipython-input-43-5e02bee488da>\u001b[0m in \u001b[0;36m<module>\u001b[0;34m()\u001b[0m\n\u001b[1;32m      4\u001b[0m \u001b[0;32mdef\u001b[0m \u001b[0mmyfunc\u001b[0m\u001b[0;34m(\u001b[0m\u001b[0;34m)\u001b[0m\u001b[0;34m:\u001b[0m\u001b[0;34m\u001b[0m\u001b[0m\n\u001b[1;32m      5\u001b[0m     \u001b[0mmydigit\u001b[0m \u001b[0;34m+=\u001b[0m\u001b[0;36m1\u001b[0m\u001b[0;34m\u001b[0m\u001b[0m\n\u001b[0;32m----> 6\u001b[0;31m \u001b[0mmyfunc\u001b[0m\u001b[0;34m(\u001b[0m\u001b[0;34m)\u001b[0m\u001b[0;34m\u001b[0m\u001b[0m\n\u001b[0m\u001b[1;32m      7\u001b[0m \u001b[0mprint\u001b[0m\u001b[0;34m(\u001b[0m\u001b[0mmydigit\u001b[0m\u001b[0;34m)\u001b[0m\u001b[0;34m\u001b[0m\u001b[0m\n",
      "\u001b[0;32m<ipython-input-43-5e02bee488da>\u001b[0m in \u001b[0;36mmyfunc\u001b[0;34m()\u001b[0m\n\u001b[1;32m      3\u001b[0m \u001b[0;34m\u001b[0m\u001b[0m\n\u001b[1;32m      4\u001b[0m \u001b[0;32mdef\u001b[0m \u001b[0mmyfunc\u001b[0m\u001b[0;34m(\u001b[0m\u001b[0;34m)\u001b[0m\u001b[0;34m:\u001b[0m\u001b[0;34m\u001b[0m\u001b[0m\n\u001b[0;32m----> 5\u001b[0;31m     \u001b[0mmydigit\u001b[0m \u001b[0;34m+=\u001b[0m\u001b[0;36m1\u001b[0m\u001b[0;34m\u001b[0m\u001b[0m\n\u001b[0m\u001b[1;32m      6\u001b[0m \u001b[0mmyfunc\u001b[0m\u001b[0;34m(\u001b[0m\u001b[0;34m)\u001b[0m\u001b[0;34m\u001b[0m\u001b[0m\n\u001b[1;32m      7\u001b[0m \u001b[0mprint\u001b[0m\u001b[0;34m(\u001b[0m\u001b[0mmydigit\u001b[0m\u001b[0;34m)\u001b[0m\u001b[0;34m\u001b[0m\u001b[0m\n",
      "\u001b[0;31mUnboundLocalError\u001b[0m: local variable 'mydigit' referenced before assignment"
     ]
    }
   ],
   "source": [
    "mylist = [1,2,3]\n",
    "mydigit = 5\n",
    "\n",
    "def myfunc():\n",
    "    mydigit +=1\n",
    "myfunc()\n",
    "print(mydigit)"
   ]
  },
  {
   "cell_type": "markdown",
   "metadata": {},
   "source": [
    "If we want to use the variable, we have to pass it into the function to access it."
   ]
  },
  {
   "cell_type": "code",
   "execution_count": 47,
   "metadata": {},
   "outputs": [
    {
     "name": "stdout",
     "output_type": "stream",
     "text": [
      "6 inside the function\n",
      "5 outside the function\n"
     ]
    }
   ],
   "source": [
    "mylist = [1,2,3]\n",
    "mydigit = 5\n",
    "\n",
    "def myfunc(somedigit):\n",
    "    somedigit +=1\n",
    "    print(somedigit,\"inside the function\")\n",
    "myfunc(mydigit)\n",
    "print(mydigit, \"outside the function\")"
   ]
  },
  {
   "cell_type": "markdown",
   "metadata": {},
   "source": [
    "And, if we want to save the new value, we have to return it from the function and assign it to a variable."
   ]
  },
  {
   "cell_type": "code",
   "execution_count": 48,
   "metadata": {},
   "outputs": [
    {
     "name": "stdout",
     "output_type": "stream",
     "text": [
      "6 inside the function\n",
      "6 outside the function\n"
     ]
    }
   ],
   "source": [
    "mylist = [1,2,3]\n",
    "mydigit = 5\n",
    "\n",
    "def myfunc(somedigit):\n",
    "    somedigit +=1\n",
    "    print(somedigit,\"inside the function\")\n",
    "    return somedigit\n",
    "mydigit = myfunc(mydigit)\n",
    "print(mydigit, \"outside the function\")"
   ]
  },
  {
   "cell_type": "markdown",
   "metadata": {},
   "source": [
    "If we use the same variable name inside the function (mydigit), we create a local copy of the variable. This is not the same as the global variable."
   ]
  },
  {
   "cell_type": "code",
   "execution_count": 14,
   "metadata": {},
   "outputs": [
    {
     "name": "stdout",
     "output_type": "stream",
     "text": [
      "5\n"
     ]
    }
   ],
   "source": [
    "mylist = [1,2,3]\n",
    "mydigit = 5\n",
    "\n",
    "def myfunc():\n",
    "    mydigit = 5\n",
    "    mydigit +=1\n",
    "myfunc()\n",
    "print(mydigit)"
   ]
  },
  {
   "cell_type": "markdown",
   "metadata": {},
   "source": [
    "The 'global' statement tells Python to find the global instance of mydigit, and to bring that into the function's namespace, making mydigit accessible inside the function. \n",
    "\n",
    "(You should NOT use 'global' in production code, or anything you turn in for this class. It's great for testing and examples, but if you need to access a value, you should pass it into your function.)"
   ]
  },
  {
   "cell_type": "code",
   "execution_count": 58,
   "metadata": {},
   "outputs": [
    {
     "name": "stdout",
     "output_type": "stream",
     "text": [
      "6 inside the function, after the +1\n",
      "6 outside the function\n"
     ]
    }
   ],
   "source": [
    "mylist = [1,2,3]\n",
    "mydigit = 5\n",
    "\n",
    "def myfunc():\n",
    "    global mydigit\n",
    "    mydigit +=1\n",
    "    print(mydigit,\"inside the function, after the +1\")\n",
    "myfunc()\n",
    "print(mydigit, \"outside the function\")"
   ]
  },
  {
   "cell_type": "markdown",
   "metadata": {},
   "source": [
    "Let's look at this with lists.\n",
    "\n",
    "In this case, the values assigned to mylist inside of mycunc() are assigned to a local copy of mylist, not the global copy."
   ]
  },
  {
   "cell_type": "code",
   "execution_count": 50,
   "metadata": {},
   "outputs": [
    {
     "name": "stdout",
     "output_type": "stream",
     "text": [
      "[1, 2, 3]\n"
     ]
    }
   ],
   "source": [
    "mylist = [1,2,3]\n",
    "\n",
    "def myfunc():\n",
    "    mylist = ['1','b','c']\n",
    "\n",
    "myfunc()\n",
    "print(mylist)"
   ]
  },
  {
   "cell_type": "markdown",
   "metadata": {},
   "source": [
    "The 'global' statment let's us access the global variable'mylist', so this assignment overwrites the old values of mylist."
   ]
  },
  {
   "cell_type": "code",
   "execution_count": 53,
   "metadata": {},
   "outputs": [
    {
     "name": "stdout",
     "output_type": "stream",
     "text": [
      "['1', 'b', 'c']\n"
     ]
    }
   ],
   "source": [
    "mylist = [1,2,3]\n",
    "\n",
    "def myfunc():\n",
    "    global  mylist\n",
    "    mylist = ['1','b','c']\n",
    "\n",
    "myfunc()\n",
    "print(mylist)"
   ]
  },
  {
   "cell_type": "markdown",
   "metadata": {},
   "source": [
    "But, lists behave differently than other variable types. In here, we are able to modify mulist by using its .pop() method."
   ]
  },
  {
   "cell_type": "code",
   "execution_count": 2,
   "metadata": {},
   "outputs": [
    {
     "name": "stdout",
     "output_type": "stream",
     "text": [
      "[1, 2]\n"
     ]
    }
   ],
   "source": [
    "mylist = [1,2,3]\n",
    "mydigit = 5\n",
    "\n",
    "def myfunc():\n",
    "    mylist.pop()\n",
    "myfunc()\n",
    "print(mylist)"
   ]
  },
  {
   "cell_type": "markdown",
   "metadata": {},
   "source": [
    "## Mutable Types and Namespace\n",
    "Mutable objects (lists, in these examples) can be modified when passed into a function. Immutable objects cannot."
   ]
  },
  {
   "cell_type": "markdown",
   "metadata": {},
   "source": [
    "## Examples with Lists"
   ]
  },
  {
   "cell_type": "code",
   "execution_count": 61,
   "metadata": {},
   "outputs": [
    {
     "name": "stdout",
     "output_type": "stream",
     "text": [
      "[1, 2, 3] before function\n",
      "['1', 'b', 'c'] inside of function, after overwriting\n",
      "['1', 'b', 'c'] outside of function\n"
     ]
    }
   ],
   "source": [
    "mylist = [1,2,3]\n",
    "print(mylist, \"before function\")\n",
    "def myfunc():\n",
    "    global mylist\n",
    "    mylist = ['1','b','c']\n",
    "    print(mylist, \"inside of function, after overwriting\")\n",
    "\n",
    "myfunc()\n",
    "print(mylist, \"outside of function\")"
   ]
  },
  {
   "cell_type": "code",
   "execution_count": 62,
   "metadata": {},
   "outputs": [
    {
     "name": "stdout",
     "output_type": "stream",
     "text": [
      "[1, 2, 3] before function\n",
      "['1', 'b', 'c'] inside of function, after overwriting\n",
      "[1, 2, 3] outside of function\n"
     ]
    }
   ],
   "source": [
    "mylist = [1,2,3]\n",
    "print(mylist, \"before function\")\n",
    "def myfunc():\n",
    "    #global mylist\n",
    "    mylist = ['1','b','c']\n",
    "    print(mylist, \"inside of function, after overwriting\")\n",
    "\n",
    "myfunc()\n",
    "print(mylist, \"outside of function\")"
   ]
  },
  {
   "cell_type": "code",
   "execution_count": null,
   "metadata": {},
   "outputs": [],
   "source": []
  },
  {
   "cell_type": "code",
   "execution_count": 69,
   "metadata": {},
   "outputs": [
    {
     "name": "stdout",
     "output_type": "stream",
     "text": [
      "[1, 2]\n"
     ]
    }
   ],
   "source": [
    "mylist = [1,2,3]\n",
    "\n",
    "def myfunc():\n",
    "    mylist.pop()\n",
    "\n",
    "myfunc()\n",
    "print(mylist)"
   ]
  },
  {
   "cell_type": "code",
   "execution_count": 68,
   "metadata": {},
   "outputs": [
    {
     "name": "stdout",
     "output_type": "stream",
     "text": [
      "[1, 2]\n"
     ]
    }
   ],
   "source": [
    "mylist = [1,2,3]\n",
    "\n",
    "def myfunc():\n",
    "    global mylist\n",
    "    mylist.pop()\n",
    "\n",
    "myfunc()\n",
    "print(mylist)"
   ]
  },
  {
   "cell_type": "code",
   "execution_count": 2,
   "metadata": {},
   "outputs": [
    {
     "name": "stdout",
     "output_type": "stream",
     "text": [
      "[1, 2, 3] before function\n",
      "[] before function\n",
      "[1, 2] after function\n",
      "[3] after function\n"
     ]
    }
   ],
   "source": [
    "mylist = [1,2,3]\n",
    "discardlistoutsidefunction = []\n",
    "def myfunc(listinsidefunction,discardlist):\n",
    "    discardlist.append(listinsidefunction.pop())\n",
    "\n",
    "print(mylist,\"before function\")\n",
    "print(discardlistoutsidefunction,\"before function\")\n",
    "\n",
    "myfunc(mylist,discardlistoutsidefunction)\n",
    "print(mylist,\"after function\")\n",
    "print(discardlistoutsidefunction,\"after function\")"
   ]
  },
  {
   "cell_type": "markdown",
   "metadata": {},
   "source": [
    "### Example with a Dictionary"
   ]
  },
  {
   "cell_type": "code",
   "execution_count": 7,
   "metadata": {},
   "outputs": [
    {
     "data": {
      "text/plain": [
       "{'a': 1, 'b': 2, 'c': 3}"
      ]
     },
     "execution_count": 7,
     "metadata": {},
     "output_type": "execute_result"
    }
   ],
   "source": [
    "x = {'a':1,'b':2,'c':3}\n",
    "def foo(a):\n",
    "    a['a'] = 12345\n",
    "\n",
    "x"
   ]
  },
  {
   "cell_type": "code",
   "execution_count": 6,
   "metadata": {},
   "outputs": [
    {
     "data": {
      "text/plain": [
       "{'a': 12345, 'b': 2, 'c': 3}"
      ]
     },
     "execution_count": 6,
     "metadata": {},
     "output_type": "execute_result"
    }
   ],
   "source": [
    "x = {'a':1,'b':2,'c':3}\n",
    "def foo(a):\n",
    "    a['a'] = 12345\n",
    "foo(x)\n",
    "x"
   ]
  },
  {
   "cell_type": "code",
   "execution_count": null,
   "metadata": {},
   "outputs": [],
   "source": []
  }
 ],
 "metadata": {
  "kernelspec": {
   "display_name": "Python 3",
   "language": "python",
   "name": "python3"
  },
  "language_info": {
   "codemirror_mode": {
    "name": "ipython",
    "version": 3
   },
   "file_extension": ".py",
   "mimetype": "text/x-python",
   "name": "python",
   "nbconvert_exporter": "python",
   "pygments_lexer": "ipython3",
   "version": "3.7.1"
  }
 },
 "nbformat": 4,
 "nbformat_minor": 2
}

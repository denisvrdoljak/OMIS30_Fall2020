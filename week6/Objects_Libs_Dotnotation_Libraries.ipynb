{
 "cells": [
  {
   "cell_type": "markdown",
   "metadata": {},
   "source": [
    "# Objects, Dot Notation, Libraries"
   ]
  },
  {
   "cell_type": "markdown",
   "metadata": {},
   "source": [
    "## Using Libraries"
   ]
  },
  {
   "cell_type": "markdown",
   "metadata": {},
   "source": [
    "To use the libraries (deckofcards, or ducksoccer), we need to import them. We can import libraries that are part of the Python standard library. We can also import libraries that are in the same folder as our as our present working space.\n",
    "\n",
    "To import a local python script, just use:\n",
    "\n",
    "    import <name without the .py>\n"
   ]
  },
  {
   "cell_type": "code",
   "execution_count": 1,
   "metadata": {},
   "outputs": [],
   "source": [
    "import deckofcards\n",
    "import ducksoccer\n"
   ]
  },
  {
   "cell_type": "markdown",
   "metadata": {},
   "source": [
    "### Dot Notation with Libraries"
   ]
  },
  {
   "cell_type": "markdown",
   "metadata": {},
   "source": [
    "We use dot notation to reference object definitions inside of the library. For example, there is a definition for the object Deck() inside of deckofcards:"
   ]
  },
  {
   "cell_type": "code",
   "execution_count": 2,
   "metadata": {},
   "outputs": [
    {
     "data": {
      "text/plain": [
       "<deckofcards.Deck at 0x1064ad668>"
      ]
     },
     "execution_count": 2,
     "metadata": {},
     "output_type": "execute_result"
    }
   ],
   "source": [
    "mydeck = deckofcards.Deck()\n",
    "#this creates an instance of Deck()\n",
    "mydeck"
   ]
  },
  {
   "cell_type": "markdown",
   "metadata": {},
   "source": [
    "To access methods of our newly created Deck() object--called mydeck--we use dot notation. This is just like we accessed the string.split() and list.append() methods:"
   ]
  },
  {
   "cell_type": "code",
   "execution_count": 3,
   "metadata": {},
   "outputs": [],
   "source": [
    "mydeck.loadnewdeck()\n",
    "mydeck.shuffledeck()"
   ]
  },
  {
   "cell_type": "markdown",
   "metadata": {},
   "source": [
    "### Dot Notation with Objects"
   ]
  },
  {
   "cell_type": "markdown",
   "metadata": {},
   "source": [
    "To access an attribute of the object, we can use dot notation as well. Remember, methods, like functions, always end with parantheses. Attributes are just referenced directly:"
   ]
  },
  {
   "cell_type": "code",
   "execution_count": 4,
   "metadata": {},
   "outputs": [
    {
     "data": {
      "text/plain": [
       "[6♣,\n",
       " J♣,\n",
       " 4♣,\n",
       " A♦,\n",
       " 9♦,\n",
       " 7♥,\n",
       " 10♦,\n",
       " 2♦,\n",
       " 5♥,\n",
       " 6♠,\n",
       " 10♠,\n",
       " 2♣,\n",
       " K♦,\n",
       " 4♦,\n",
       " Q♣,\n",
       " 2♠,\n",
       " 9♥,\n",
       " Q♥,\n",
       " A♥,\n",
       " 8♦,\n",
       " J♥,\n",
       " 3♥,\n",
       " A♣,\n",
       " 4♥,\n",
       " 10♥,\n",
       " Q♠,\n",
       " 3♣,\n",
       " 6♥,\n",
       " K♥,\n",
       " 8♣,\n",
       " 7♠,\n",
       " 7♣,\n",
       " 5♦,\n",
       " 3♠,\n",
       " 7♦,\n",
       " J♠,\n",
       " 10♣,\n",
       " 9♠,\n",
       " K♣,\n",
       " J♦,\n",
       " 3♦,\n",
       " 5♠,\n",
       " 2♥,\n",
       " 9♣,\n",
       " 5♣,\n",
       " 4♠,\n",
       " 6♦,\n",
       " A♠,\n",
       " K♠,\n",
       " Q♦,\n",
       " 8♠,\n",
       " 8♥]"
      ]
     },
     "execution_count": 4,
     "metadata": {},
     "output_type": "execute_result"
    }
   ],
   "source": [
    "mydeck.deck"
   ]
  },
  {
   "cell_type": "markdown",
   "metadata": {},
   "source": [
    "### Object Attributes"
   ]
  },
  {
   "cell_type": "markdown",
   "metadata": {},
   "source": [
    "The .deck attribute is a list that holds all the cards that are in the deck. This means we can use indexing to reference one of the objects. Let's take the 3rd one in the list. And, let's take a look at what these card objects look like:"
   ]
  },
  {
   "cell_type": "code",
   "execution_count": 5,
   "metadata": {},
   "outputs": [
    {
     "data": {
      "text/plain": [
       "4♣"
      ]
     },
     "execution_count": 5,
     "metadata": {},
     "output_type": "execute_result"
    }
   ],
   "source": [
    "mydeck.deck[2]"
   ]
  },
  {
   "cell_type": "code",
   "execution_count": 7,
   "metadata": {},
   "outputs": [
    {
     "data": {
      "text/plain": [
       "'Club'"
      ]
     },
     "execution_count": 7,
     "metadata": {},
     "output_type": "execute_result"
    }
   ],
   "source": [
    "mydeck.deck[2].suit"
   ]
  },
  {
   "cell_type": "code",
   "execution_count": 8,
   "metadata": {},
   "outputs": [
    {
     "data": {
      "text/plain": [
       "'6'"
      ]
     },
     "execution_count": 8,
     "metadata": {},
     "output_type": "execute_result"
    }
   ],
   "source": [
    "mydeck.deck[0].value"
   ]
  },
  {
   "cell_type": "code",
   "execution_count": 9,
   "metadata": {},
   "outputs": [
    {
     "data": {
      "text/plain": [
       "deckofcards.Card"
      ]
     },
     "execution_count": 9,
     "metadata": {},
     "output_type": "execute_result"
    }
   ],
   "source": [
    "type(mydeck.deck[0])"
   ]
  },
  {
   "cell_type": "markdown",
   "metadata": {},
   "source": [
    ".suit and .value are both attributs. How can we tell? There are no parentheses after, like we say in mydeck.shuffledeck()\n",
    "\n",
    "Let's take a look at the Duck() object next. We can access this using dot notation. It's part of the ducksoccer library:"
   ]
  },
  {
   "cell_type": "code",
   "execution_count": 10,
   "metadata": {},
   "outputs": [
    {
     "data": {
      "text/plain": [
       "<ducksoccer.Duck at 0x1064c50b8>"
      ]
     },
     "execution_count": 10,
     "metadata": {},
     "output_type": "execute_result"
    }
   ],
   "source": [
    "myduck = ducksoccer.Duck()\n",
    "myduck"
   ]
  },
  {
   "cell_type": "markdown",
   "metadata": {},
   "source": [
    "### Object Methods"
   ]
  },
  {
   "cell_type": "markdown",
   "metadata": {},
   "source": [
    "One of the things we can do with a Duck object is make it quack. This is a method, so to call it, we use dot notation with parentheses. How do we know this is a method, and not an attribute? Because it has parantheses at the end of it, like a function."
   ]
  },
  {
   "cell_type": "code",
   "execution_count": 11,
   "metadata": {},
   "outputs": [
    {
     "name": "stdout",
     "output_type": "stream",
     "text": [
      "[unnamed] the Duck says, 'Quack!'\n"
     ]
    }
   ],
   "source": [
    "myduck.quack()"
   ]
  },
  {
   "cell_type": "markdown",
   "metadata": {},
   "source": [
    "### Mutable Objects: an Example"
   ]
  },
  {
   "cell_type": "markdown",
   "metadata": {},
   "source": [
    "The .quack() method just does \"something,\" but doesn't modify the Duck object. There is another method in the Duck object that changes the name. The current/default name is:"
   ]
  },
  {
   "cell_type": "code",
   "execution_count": 13,
   "metadata": {},
   "outputs": [
    {
     "data": {
      "text/plain": [
       "'[unnamed]'"
      ]
     },
     "execution_count": 13,
     "metadata": {},
     "output_type": "execute_result"
    }
   ],
   "source": [
    "myduck.name"
   ]
  },
  {
   "cell_type": "markdown",
   "metadata": {},
   "source": [
    "And, if we use this to assign a name, we actually modify the object (specifically, we change the myduck.name attribute):"
   ]
  },
  {
   "cell_type": "code",
   "execution_count": 14,
   "metadata": {},
   "outputs": [],
   "source": [
    "myduck.nametheduck(\"Alfred\")"
   ]
  },
  {
   "cell_type": "code",
   "execution_count": 15,
   "metadata": {},
   "outputs": [
    {
     "data": {
      "text/plain": [
       "'Alfred'"
      ]
     },
     "execution_count": 15,
     "metadata": {},
     "output_type": "execute_result"
    }
   ],
   "source": [
    "myduck.name"
   ]
  },
  {
   "cell_type": "markdown",
   "metadata": {},
   "source": [
    "This means that the Duck object is *mutable*, like a list. A mutable object can be changed/modified. Immutable objects (like strings) cannot be modified, and have to be destroyed and overwritten to change their values. The SoccerBall object, for example here, has no method that modifies it. In fact, all you can do with the SoccerBall is call the .kick() method. Because there is not way to modify the object, this object is *immutable*."
   ]
  },
  {
   "cell_type": "markdown",
   "metadata": {},
   "source": [
    "### Immutable Objects: an Example"
   ]
  },
  {
   "cell_type": "code",
   "execution_count": 16,
   "metadata": {},
   "outputs": [
    {
     "data": {
      "text/plain": [
       "<ducksoccer.SoccerBall at 0x1064c5208>"
      ]
     },
     "execution_count": 16,
     "metadata": {},
     "output_type": "execute_result"
    }
   ],
   "source": [
    "mysoccerball = ducksoccer.SoccerBall()\n",
    "mysoccerball"
   ]
  },
  {
   "cell_type": "code",
   "execution_count": 17,
   "metadata": {},
   "outputs": [
    {
     "name": "stdout",
     "output_type": "stream",
     "text": [
      "You kicked the ball...\n",
      "You missed the goal.\n"
     ]
    }
   ],
   "source": [
    "mysoccerball.kick()"
   ]
  },
  {
   "cell_type": "markdown",
   "metadata": {},
   "source": [
    "Let's take a look at what the .kick() method does:"
   ]
  },
  {
   "cell_type": "code",
   "execution_count": 18,
   "metadata": {},
   "outputs": [
    {
     "name": "stdout",
     "output_type": "stream",
     "text": [
      "You kicked the ball...\n",
      "You missed the goal.\n",
      "You kicked the ball...\n",
      "You missed the goal.\n",
      "You kicked the ball...\n",
      "You missed the goal.\n",
      "You kicked the ball...\n",
      "You missed the goal.\n",
      "You kicked the ball...\n",
      "Goal!\n",
      "You kicked the ball...\n",
      "You missed the goal.\n"
     ]
    }
   ],
   "source": [
    "mysoccerball.kick()\n",
    "mysoccerball.kick()\n",
    "mysoccerball.kick()\n",
    "mysoccerball.kick()\n",
    "mysoccerball.kick()\n",
    "mysoccerball.kick()"
   ]
  },
  {
   "cell_type": "markdown",
   "metadata": {},
   "source": [
    "This method just \"does something,\" but doesn't modify the object. Like a string, there is no method that modifies the object itself. Let's take a look at a previous homework problem to bring this full circle:"
   ]
  }
 ],
 "metadata": {
  "kernelspec": {
   "display_name": "Python 3",
   "language": "python",
   "name": "python3"
  },
  "language_info": {
   "codemirror_mode": {
    "name": "ipython",
    "version": 3
   },
   "file_extension": ".py",
   "mimetype": "text/x-python",
   "name": "python",
   "nbconvert_exporter": "python",
   "pygments_lexer": "ipython3",
   "version": "3.7.4"
  }
 },
 "nbformat": 4,
 "nbformat_minor": 2
}

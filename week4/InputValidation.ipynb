{
 "cells": [
  {
   "cell_type": "markdown",
   "metadata": {},
   "source": [
    "# Input Validation\n",
    "\n",
    "Let's use the input() function to take in a user input, and then see if it's an input we can work with."
   ]
  },
  {
   "cell_type": "code",
   "execution_count": 16,
   "metadata": {},
   "outputs": [
    {
     "name": "stdout",
     "output_type": "stream",
     "text": [
      "select an option (1 through 4): 1\n"
     ]
    }
   ],
   "source": [
    "useroption = input(\"select an option (1 through 4): \")"
   ]
  },
  {
   "cell_type": "code",
   "execution_count": 17,
   "metadata": {},
   "outputs": [
    {
     "data": {
      "text/plain": [
       "str"
      ]
     },
     "execution_count": 17,
     "metadata": {},
     "output_type": "execute_result"
    }
   ],
   "source": [
    "type(useroption)"
   ]
  },
  {
   "cell_type": "markdown",
   "metadata": {},
   "source": [
    "We can see that the input is going to be a string, but we are going to want an int. But, before we try to convert it, we'll need to check if it can be converted. But, we don't want to convert to an int blindly. Let's see what happens if we try to convert a non-numeric to an int:"
   ]
  },
  {
   "cell_type": "code",
   "execution_count": 25,
   "metadata": {
    "scrolled": true
   },
   "outputs": [
    {
     "ename": "ValueError",
     "evalue": "invalid literal for int() with base 10: 'asdf'",
     "output_type": "error",
     "traceback": [
      "\u001b[0;31m---------------------------------------------------------------------------\u001b[0m",
      "\u001b[0;31mValueError\u001b[0m                                Traceback (most recent call last)",
      "\u001b[0;32m<ipython-input-25-8b224b34cee5>\u001b[0m in \u001b[0;36m<module>\u001b[0;34m\u001b[0m\n\u001b[1;32m      1\u001b[0m \u001b[0museroption\u001b[0m \u001b[0;34m=\u001b[0m \u001b[0;34m'asdf'\u001b[0m\u001b[0;34m\u001b[0m\u001b[0;34m\u001b[0m\u001b[0m\n\u001b[0;32m----> 2\u001b[0;31m \u001b[0mint\u001b[0m\u001b[0;34m(\u001b[0m\u001b[0museroption\u001b[0m\u001b[0;34m)\u001b[0m\u001b[0;34m\u001b[0m\u001b[0;34m\u001b[0m\u001b[0m\n\u001b[0m",
      "\u001b[0;31mValueError\u001b[0m: invalid literal for int() with base 10: 'asdf'"
     ]
    }
   ],
   "source": [
    "useroption = 'asdf'\n",
    "int(useroption)"
   ]
  },
  {
   "cell_type": "markdown",
   "metadata": {},
   "source": [
    "We can first check if the string is in fact numeric..."
   ]
  },
  {
   "cell_type": "code",
   "execution_count": 28,
   "metadata": {},
   "outputs": [
    {
     "data": {
      "text/plain": [
       "True"
      ]
     },
     "execution_count": 28,
     "metadata": {},
     "output_type": "execute_result"
    }
   ],
   "source": [
    "useroption = '1'\n",
    "useroption.isnumeric()"
   ]
  },
  {
   "cell_type": "code",
   "execution_count": 55,
   "metadata": {},
   "outputs": [
    {
     "data": {
      "text/plain": [
       "False"
      ]
     },
     "execution_count": 55,
     "metadata": {},
     "output_type": "execute_result"
    }
   ],
   "source": [
    "useroption = 'asdf'\n",
    "useroption.isnumeric()"
   ]
  },
  {
   "cell_type": "markdown",
   "metadata": {},
   "source": [
    "And, if it is, we convert. We can use an IF/ELSE to control this."
   ]
  },
  {
   "cell_type": "code",
   "execution_count": 56,
   "metadata": {},
   "outputs": [
    {
     "name": "stdout",
     "output_type": "stream",
     "text": [
      "'useroption' wasn't a number, and wasn't converted.\n"
     ]
    }
   ],
   "source": [
    "if useroption.isnumeric():\n",
    "    useroption = int(useroption)\n",
    "    print(\"'useroption' was converted.\")\n",
    "\n",
    "else:\n",
    "    print(\"'useroption' wasn't a number, and wasn't converted.\")"
   ]
  },
  {
   "cell_type": "code",
   "execution_count": 57,
   "metadata": {},
   "outputs": [
    {
     "data": {
      "text/plain": [
       "str"
      ]
     },
     "execution_count": 57,
     "metadata": {},
     "output_type": "execute_result"
    }
   ],
   "source": [
    "type(useroption)"
   ]
  },
  {
   "cell_type": "markdown",
   "metadata": {},
   "source": [
    "Of course, in a program we're not going to be printing to the screen like in the example above. We'll want to check the variable type to make sure it is what we need. For this, we can use an IS statement."
   ]
  },
  {
   "cell_type": "code",
   "execution_count": 58,
   "metadata": {
    "scrolled": true
   },
   "outputs": [
    {
     "data": {
      "text/plain": [
       "True"
      ]
     },
     "execution_count": 58,
     "metadata": {},
     "output_type": "execute_result"
    }
   ],
   "source": [
    "type(useroption) is not int"
   ]
  },
  {
   "cell_type": "markdown",
   "metadata": {},
   "source": [
    "We might also want to check if the option is a valid entry. Here, we can use the IN statement."
   ]
  },
  {
   "cell_type": "code",
   "execution_count": 31,
   "metadata": {},
   "outputs": [
    {
     "data": {
      "text/plain": [
       "False"
      ]
     },
     "execution_count": 31,
     "metadata": {},
     "output_type": "execute_result"
    }
   ],
   "source": [
    "useroption in [1,2,3,4,5]"
   ]
  },
  {
   "cell_type": "markdown",
   "metadata": {},
   "source": [
    "Let's combine these, and also raise an error if we end up with an input that we can't use."
   ]
  },
  {
   "cell_type": "code",
   "execution_count": 45,
   "metadata": {},
   "outputs": [
    {
     "name": "stdout",
     "output_type": "stream",
     "text": [
      "reached the end without an error\n"
     ]
    }
   ],
   "source": [
    "useroption = 1 #change this value to try out how this works.\n",
    "\n",
    "if type(useroption) is str and useroption.isnumeric():\n",
    "    useroption = int(useroption) #convert if it's a string and can be converted\n",
    "\n",
    "if type(useroption) is not int:\n",
    "    raise TypeError(\"variable 'useroption' is not an int, or error converting\")\n",
    "    #raise an error if wrong type, and could not be converted\n",
    "elif useroption not in [1,2,3,4]:\n",
    "    raise ValueError(\"variable 'useroption' is not valid; expectera 1-4\")\n",
    "    #raise an error if invalid input\n",
    "\n",
    "# Since we do all of our input validation and raise an error if there's a bad input,\n",
    "# we don't need to put the rest of our code in an ELSE block. \n",
    "# an error will exit out of the program, and this code will never run\n",
    "# this means we can add in the input validation after we write our main code \n",
    "# because we don'g need to restructure our code to do it.\n",
    "print(\"reached the end without an error\")"
   ]
  },
  {
   "cell_type": "markdown",
   "metadata": {
    "collapsed": true
   },
   "source": [
    "We started by taking in a user input, but in this last example just assigned a value to useroption. In a program, we probably wouldnt want to raise an error for a bad user input). But, would want to raise an error if someone entered a bad input into a function. \n",
    "\n",
    "By  adding a block of code for input validation, we can make our functions and classes more robust. Take a look at the deckofcards.py code to see an example of this in practice."
   ]
  }
 ],
 "metadata": {
  "kernelspec": {
   "display_name": "Python 3",
   "language": "python",
   "name": "python3"
  },
  "language_info": {
   "codemirror_mode": {
    "name": "ipython",
    "version": 3
   },
   "file_extension": ".py",
   "mimetype": "text/x-python",
   "name": "python",
   "nbconvert_exporter": "python",
   "pygments_lexer": "ipython3",
   "version": "3.7.1"
  }
 },
 "nbformat": 4,
 "nbformat_minor": 2
}

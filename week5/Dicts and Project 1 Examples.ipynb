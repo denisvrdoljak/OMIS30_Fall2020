{
 "cells": [
  {
   "cell_type": "markdown",
   "metadata": {},
   "source": [
    "## Dictionaries"
   ]
  },
  {
   "cell_type": "code",
   "execution_count": 1,
   "metadata": {},
   "outputs": [],
   "source": [
    "grade_scores = {\n",
    "    \"Project 1\":10,\n",
    "    \"Project 2\":20,\n",
    "    \"Project 3\":30,\n",
    "    \"ZyBooks\":20,\n",
    "    \"Labs\":20\n",
    "}"
   ]
  },
  {
   "cell_type": "code",
   "execution_count": 3,
   "metadata": {},
   "outputs": [
    {
     "data": {
      "text/plain": [
       "dict_keys(['Project 1', 'Project 2', 'Project 3', 'ZyBooks', 'Labs'])"
      ]
     },
     "execution_count": 3,
     "metadata": {},
     "output_type": "execute_result"
    }
   ],
   "source": [
    "grade_scores.keys()"
   ]
  },
  {
   "cell_type": "code",
   "execution_count": 7,
   "metadata": {},
   "outputs": [
    {
     "data": {
      "text/plain": [
       "dict_values([10, 20, 30, 20, 20])"
      ]
     },
     "execution_count": 7,
     "metadata": {},
     "output_type": "execute_result"
    }
   ],
   "source": [
    "grade_scores.values()"
   ]
  },
  {
   "cell_type": "code",
   "execution_count": 8,
   "metadata": {},
   "outputs": [
    {
     "data": {
      "text/plain": [
       "dict_items([('Project 1', 10), ('Project 2', 20), ('Project 3', 30), ('ZyBooks', 20), ('Labs', 20)])"
      ]
     },
     "execution_count": 8,
     "metadata": {},
     "output_type": "execute_result"
    }
   ],
   "source": [
    "grade_scores.items()"
   ]
  },
  {
   "cell_type": "code",
   "execution_count": 9,
   "metadata": {},
   "outputs": [
    {
     "name": "stdout",
     "output_type": "stream",
     "text": [
      "Project 1 is worth 10% of the total grade.\n",
      "Project 2 is worth 20% of the total grade.\n",
      "Project 3 is worth 30% of the total grade.\n",
      "ZyBooks is worth 20% of the total grade.\n",
      "Labs is worth 20% of the total grade.\n"
     ]
    }
   ],
   "source": [
    "for assignment in grade_scores.keys():\n",
    "    print(\"{} is worth {}% of the total grade.\".format(assignment,grade_scores[assignment]))"
   ]
  },
  {
   "cell_type": "code",
   "execution_count": 11,
   "metadata": {},
   "outputs": [
    {
     "name": "stdout",
     "output_type": "stream",
     "text": [
      "('Project 1', 10)\n",
      "Project 1 is worth 10% of the total grade.\n",
      "('Project 2', 20)\n",
      "Project 2 is worth 20% of the total grade.\n",
      "('Project 3', 30)\n",
      "Project 3 is worth 30% of the total grade.\n",
      "('ZyBooks', 20)\n",
      "ZyBooks is worth 20% of the total grade.\n",
      "('Labs', 20)\n",
      "Labs is worth 20% of the total grade.\n"
     ]
    }
   ],
   "source": [
    "for item in grade_scores.items():\n",
    "    print(item)\n",
    "    assignment,weight = item\n",
    "    print(\"{} is worth {}% of the total grade.\".format(assignment,weight))"
   ]
  },
  {
   "cell_type": "code",
   "execution_count": 10,
   "metadata": {},
   "outputs": [
    {
     "name": "stdout",
     "output_type": "stream",
     "text": [
      "Project 1 is worth 10% of the total grade.\n",
      "Project 2 is worth 20% of the total grade.\n",
      "Project 3 is worth 30% of the total grade.\n",
      "ZyBooks is worth 20% of the total grade.\n",
      "Labs is worth 20% of the total grade.\n"
     ]
    }
   ],
   "source": [
    "for assignment,weight in grade_scores.items():\n",
    "    print(\"{} is worth {}% of the total grade.\".format(assignment,weight))"
   ]
  },
  {
   "cell_type": "code",
   "execution_count": 14,
   "metadata": {},
   "outputs": [
    {
     "data": {
      "text/plain": [
       "100"
      ]
     },
     "execution_count": 14,
     "metadata": {},
     "output_type": "execute_result"
    }
   ],
   "source": [
    "sum(list(grade_scores.values()))"
   ]
  },
  {
   "cell_type": "code",
   "execution_count": 15,
   "metadata": {},
   "outputs": [],
   "source": [
    "grade_scores_ASYNC = {\n",
    "    \"Project 1\":10,\n",
    "    \"Project 2\":20,\n",
    "    \"ZyBooks\":50,\n",
    "    \"Labs\":20\n",
    "\n",
    "\n",
    "    \n",
    "}"
   ]
  },
  {
   "cell_type": "code",
   "execution_count": 16,
   "metadata": {},
   "outputs": [
    {
     "data": {
      "text/plain": [
       "100"
      ]
     },
     "execution_count": 16,
     "metadata": {},
     "output_type": "execute_result"
    }
   ],
   "source": [
    "sum(grade_scores_ASYNC.values())"
   ]
  },
  {
   "cell_type": "markdown",
   "metadata": {},
   "source": [
    "## Project 1 Sample\n",
    "\n",
    "note: for your submission, do NOT have the code in multiple cells!"
   ]
  },
  {
   "cell_type": "code",
   "execution_count": 17,
   "metadata": {},
   "outputs": [],
   "source": [
    "menu = \"\"\"\n",
    "Please enter which calculator you'd like to use:\n",
    "1. ASYNC grade calculater\n",
    "2. SYNC grade calculater\n",
    "\n",
    "--> \n",
    "\"\"\""
   ]
  },
  {
   "cell_type": "code",
   "execution_count": 19,
   "metadata": {},
   "outputs": [
    {
     "name": "stdout",
     "output_type": "stream",
     "text": [
      "\n",
      "Please enter which calculator you'd like to use:\n",
      "1. ASYNC grade calculatr\n",
      "2. SYNC grade calculatr\n",
      "\n",
      "--> \n",
      "1\n"
     ]
    }
   ],
   "source": [
    "user_choice = input(menu)"
   ]
  },
  {
   "cell_type": "code",
   "execution_count": 20,
   "metadata": {},
   "outputs": [
    {
     "data": {
      "text/plain": [
       "'1'"
      ]
     },
     "execution_count": 20,
     "metadata": {},
     "output_type": "execute_result"
    }
   ],
   "source": [
    "user_choice"
   ]
  },
  {
   "cell_type": "code",
   "execution_count": 21,
   "metadata": {},
   "outputs": [
    {
     "data": {
      "text/plain": [
       "{'Project 1': 10, 'Project 2': 20, 'ZyBooks': 50, 'Labs': 20}"
      ]
     },
     "execution_count": 21,
     "metadata": {},
     "output_type": "execute_result"
    }
   ],
   "source": [
    "grade_scores_ASYNC"
   ]
  },
  {
   "cell_type": "code",
   "execution_count": 25,
   "metadata": {},
   "outputs": [
    {
     "name": "stdout",
     "output_type": "stream",
     "text": [
      "What was you (percentage) score on Project 1: asdf\n",
      "INVALID CHOICE!\n",
      "What was you (percentage) score on Project 1: asdf\n",
      "INVALID CHOICE!\n",
      "What was you (percentage) score on Project 1: asdf\n",
      "INVALID CHOICE!\n",
      "What was you (percentage) score on Project 1: asdf\n",
      "INVALID CHOICE!\n",
      "What was you (percentage) score on Project 1: 33\n",
      "What was you (percentage) score on Project 2: 99\n",
      "What was you (percentage) score on ZyBooks: 100\n",
      "What was you (percentage) score on Labs: asd\n",
      "INVALID CHOICE!\n",
      "What was you (percentage) score on Labs: 55\n"
     ]
    }
   ],
   "source": [
    "student_grades = {}\n",
    "for assignment in grade_scores_ASYNC.keys():\n",
    "    score = input(\"What was you (percentage) score on {}: \".format(assignment))\n",
    "    while not score.isnumeric():\n",
    "        score = input(\"INVALID CHOICE!\\nWhat was you (percentage) score on {}: \".format(assignment))\n",
    "    student_grades[assignment] = float(score)"
   ]
  },
  {
   "cell_type": "code",
   "execution_count": 33,
   "metadata": {},
   "outputs": [],
   "source": [
    "\"\"\"\n",
    "for key,val in student_grades.items():\n",
    "    student_grades[key] = float(val)\n",
    "    \"\"\""
   ]
  },
  {
   "cell_type": "code",
   "execution_count": 34,
   "metadata": {},
   "outputs": [
    {
     "data": {
      "text/plain": [
       "{'Project 1': 33.0, 'Project 2': 99.0, 'ZyBooks': 100.0, 'Labs': 55.0}"
      ]
     },
     "execution_count": 34,
     "metadata": {},
     "output_type": "execute_result"
    }
   ],
   "source": [
    "student_grades"
   ]
  },
  {
   "cell_type": "code",
   "execution_count": 27,
   "metadata": {},
   "outputs": [
    {
     "data": {
      "text/plain": [
       "{'Project 1': 10, 'Project 2': 20, 'ZyBooks': 50, 'Labs': 20}"
      ]
     },
     "execution_count": 27,
     "metadata": {},
     "output_type": "execute_result"
    }
   ],
   "source": [
    "grade_scores_ASYNC"
   ]
  },
  {
   "cell_type": "code",
   "execution_count": 36,
   "metadata": {},
   "outputs": [
    {
     "name": "stdout",
     "output_type": "stream",
     "text": [
      "33.0 10\n",
      "3.3\n",
      "99.0 20\n",
      "19.8\n",
      "100.0 50\n",
      "50.0\n",
      "55.0 20\n",
      "11.0\n",
      "Total score: 84.1\n"
     ]
    }
   ],
   "source": [
    "total_student_grade = 0\n",
    "for score,weight in zip(\n",
    "    student_grades.values(),\n",
    "    grade_scores_ASYNC.values()\n",
    "):\n",
    "    print(score,weight)\n",
    "    weighted_score = score * weight/100\n",
    "    print(weighted_score)\n",
    "    total_student_grade += weighted_score\n",
    "print(\"Total score:\",total_student_grade)"
   ]
  },
  {
   "cell_type": "code",
   "execution_count": 37,
   "metadata": {},
   "outputs": [
    {
     "name": "stdout",
     "output_type": "stream",
     "text": [
      "What was you (percentage) score on Project 1: 90\n",
      "What was you (percentage) score on Project 2: 95\n",
      "What was you (percentage) score on ZyBooks: 100\n",
      "What was you (percentage) score on Labs: 50\n",
      "90.0 10\n",
      "9.0\n",
      "95.0 20\n",
      "19.0\n",
      "100.0 50\n",
      "50.0\n",
      "50.0 20\n",
      "10.0\n",
      "Total score: 88.0\n"
     ]
    }
   ],
   "source": [
    "# get user scores/inputs\n",
    "student_grades = {}\n",
    "for assignment in grade_scores_ASYNC.keys():\n",
    "    score = input(\"What was you (percentage) score on {}: \".format(assignment))\n",
    "    while not score.isnumeric():\n",
    "        score = input(\"INVALID CHOICE!\\nWhat was you (percentage) score on {}: \".format(assignment))\n",
    "    student_grades[assignment] = float(score)\n",
    "\n",
    "# calculate total score\n",
    "total_student_grade = 0\n",
    "for score,weight in zip(\n",
    "    student_grades.values(),\n",
    "    grade_scores_ASYNC.values()\n",
    "):\n",
    "    print(score,weight)\n",
    "    weighted_score = score * weight/100\n",
    "    print(weighted_score)\n",
    "    total_student_grade += weighted_score\n",
    "print(\"Total score:\",total_student_grade)"
   ]
  },
  {
   "cell_type": "code",
   "execution_count": 38,
   "metadata": {},
   "outputs": [
    {
     "data": {
      "text/plain": [
       "\"\\nPlease enter which calculator you'd like to use:\\n1. ASYNC grade calculatr\\n2. SYNC grade calculatr\\n\\n--> \\n\""
      ]
     },
     "execution_count": 38,
     "metadata": {},
     "output_type": "execute_result"
    }
   ],
   "source": [
    "menu"
   ]
  },
  {
   "cell_type": "code",
   "execution_count": 42,
   "metadata": {},
   "outputs": [
    {
     "name": "stdout",
     "output_type": "stream",
     "text": [
      "\n",
      "Please enter which calculator you'd like to use:\n",
      "1. ASYNC grade calculatr\n",
      "2. SYNC grade calculatr\n",
      "\n",
      "--> \n",
      "1\n",
      "What was you (percentage) score on Project 1: 88\n",
      "What was you (percentage) score on Project 2: 85\n",
      "What was you (percentage) score on ZyBooks: 90\n",
      "What was you (percentage) score on Labs: 100\n",
      "88.0 10\n",
      "8.8\n",
      "85.0 20\n",
      "17.0\n",
      "90.0 50\n",
      "45.0\n",
      "100.0 20\n",
      "20.0\n",
      "Total score: 90.8\n"
     ]
    }
   ],
   "source": [
    "user_choice = input(menu)\n",
    "\n",
    "if user_choice == \"1\":\n",
    "    # get user scores/inputs\n",
    "    student_grades = {}\n",
    "    for assignment in grade_scores_ASYNC.keys():\n",
    "        score = input(\"What was you (percentage) score on {}: \".format(assignment))\n",
    "        while not score.isnumeric():\n",
    "            score = input(\"INVALID CHOICE!\\nWhat was you (percentage) score on {}: \".format(assignment))\n",
    "        student_grades[assignment] = float(score)\n",
    "\n",
    "    # calculate total score\n",
    "    total_student_grade = 0\n",
    "    for score,weight in zip(\n",
    "        student_grades.values(),\n",
    "        grade_scores_ASYNC.values()\n",
    "    ):\n",
    "        print(score,weight)\n",
    "        weighted_score = score * weight/100\n",
    "        print(weighted_score)\n",
    "        total_student_grade += weighted_score\n",
    "    print(\"Total score:\",total_student_grade)\n",
    "elif user_choice == \"2\":\n",
    "    \n",
    "    # get user scores/inputs\n",
    "    student_grades = {}\n",
    "    for assignment in grade_scores.keys():\n",
    "        score = input(\"What was you (percentage) score on {}: \".format(assignment))\n",
    "        while not score.isnumeric():\n",
    "            score = input(\"INVALID CHOICE!\\nWhat was you (percentage) score on {}: \".format(assignment))\n",
    "        student_grades[assignment] = float(score)\n",
    "\n",
    "    # calculate total score\n",
    "    total_student_grade = 0\n",
    "    for score,weight in zip(\n",
    "        student_grades.values(),\n",
    "        grade_scores.values()\n",
    "    ):\n",
    "        print(score,weight)\n",
    "        weighted_score = score * weight/100\n",
    "        print(weighted_score)\n",
    "        total_student_grade += weighted_score\n",
    "    print(\"Total score:\",total_student_grade)\n",
    "\n",
    "else:\n",
    "    print(\"That was not a valid menu choice\")"
   ]
  },
  {
   "cell_type": "code",
   "execution_count": null,
   "metadata": {},
   "outputs": [],
   "source": []
  }
 ],
 "metadata": {
  "kernelspec": {
   "display_name": "Python 3",
   "language": "python",
   "name": "python3"
  },
  "language_info": {
   "codemirror_mode": {
    "name": "ipython",
    "version": 3
   },
   "file_extension": ".py",
   "mimetype": "text/x-python",
   "name": "python",
   "nbconvert_exporter": "python",
   "pygments_lexer": "ipython3",
   "version": "3.7.4"
  }
 },
 "nbformat": 4,
 "nbformat_minor": 2
}

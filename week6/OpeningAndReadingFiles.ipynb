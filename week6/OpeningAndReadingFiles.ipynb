{
 "cells": [
  {
   "cell_type": "markdown",
   "metadata": {},
   "source": [
    "# Basic File I/O"
   ]
  },
  {
   "cell_type": "markdown",
   "metadata": {
    "collapsed": true
   },
   "source": [
    "In the previous lecture on Pandas, we created a file, Example.csv. Let's open it as a simple text file.\n",
    "df.to_csv('Example.csv')"
   ]
  },
  {
   "cell_type": "code",
   "execution_count": 2,
   "metadata": {
    "collapsed": true
   },
   "outputs": [],
   "source": [
    "fp = open(\"Example.csv\")\n",
    "# do things with 'fp'\n",
    "fp.close()"
   ]
  },
  {
   "cell_type": "markdown",
   "metadata": {},
   "source": [
    "But, we might not remember to close the file. Or, if we get an error, we might not even get a chance to close it. To avoid this (and potentially corrupted files), we can use a WITH-AS block. It is indented, similar to FOR and WHILE loops, as well as functions. The AS gives us an alias to use for the object we create with the open() function. \n",
    "\n",
    "(This is another way of saying we assign the open file that open() returns, and assign it to fp.)\n",
    "\n",
    "Compare the "
   ]
  },
  {
   "cell_type": "code",
   "execution_count": null,
   "metadata": {
    "collapsed": true
   },
   "outputs": [],
   "source": [
    "with open('Example.csv') as fp:\n",
    "    # do things with 'fp'"
   ]
  },
  {
   "cell_type": "code",
   "execution_count": 10,
   "metadata": {},
   "outputs": [
    {
     "name": "stdout",
     "output_type": "stream",
     "text": [
      ",JURISDICTION NAME,COUNT PARTICIPANTS,COUNT FEMALE,PERCENT FEMALE,COUNT MALE,PERCENT MALE,COUNT GENDER UNKNOWN,PERCENT GENDER UNKNOWN,COUNT GENDER TOTAL,PERCENT GENDER TOTAL,COUNT PACIFIC ISLANDER,PERCENT PACIFIC ISLANDER,COUNT HISPANIC LATINO,PERCENT HISPANIC LATINO,COUNT AMERICAN INDIAN,PERCENT AMERICAN INDIAN,COUNT ASIAN NON HISPANIC,PERCENT ASIAN NON HISPANIC,COUNT WHITE NON HISPANIC,PERCENT WHITE NON HISPANIC,COUNT BLACK NON HISPANIC,PERCENT BLACK NON HISPANIC,COUNT OTHER ETHNICITY,PERCENT OTHER ETHNICITY,COUNT ETHNICITY UNKNOWN,PERCENT ETHNICITY UNKNOWN,COUNT ETHNICITY TOTAL,PERCENT ETHNICITY TOTAL,COUNT PERMANENT RESIDENT ALIEN,PERCENT PERMANENT RESIDENT ALIEN,COUNT US CITIZEN,PERCENT US CITIZEN,COUNT OTHER CITIZEN STATUS,PERCENT OTHER CITIZEN STATUS,COUNT CITIZEN STATUS UNKNOWN,PERCENT CITIZEN STATUS UNKNOWN,COUNT CITIZEN STATUS TOTAL,PERCENT CITIZEN STATUS TOTAL,COUNT RECEIVES PUBLIC ASSISTANCE,PERCENT RECEIVES PUBLIC ASSISTANCE,COUNT NRECEIVES PUBLIC ASSISTANCE,PERCENT NRECEIVES PUBLIC ASSISTANCE,COUNT PUBLIC ASSISTANCE UNKNOWN,PERCENT PUBLIC ASSISTANCE UNKNOWN,COUNT PUBLIC ASSISTANCE TOTAL,PERCENT PUBLIC ASSISTANCE TOTAL,month_of_survey,norm_participants,AI_PI\n",
      "0,10001,44,22,0.5,22,0.5,0,0,44,100,0,0.0,16,0.36,0,0.0,3,0.07,1,0.02,21,0.48,3,0.07,0,0.0,44,100,2,0.05,42,0.95,0,0.0,0,0,44,100,20,0.45,24,0.55,0,0,44,100,October,0.44,0\n",
      "1,10002,35,19,0.54,16,0.46,0,0,35,100,0,0.0,1,0.03,0,0.0,28,0.8,6,0.17,0,0.0,0,0.0,0,0.0,35,100,2,0.06,33,0.94,0,0.0,0,0,35,100,2,0.06,33,0.94,0,0,35,100,October,0.35,0\n",
      "2,10003,1,1,1.0,0,0.0,0,0,1,100,0,0.0,0,0.0,0,0.0,1,1.0,0,0.0,0,0.0,0,0.0,0,0.0,1,100,0,0.0,1,1.0,0,0.0,0,0,1,100,0,0.0,1,1.0,0,0,1,100,October,0.01,0\n",
      "3,10004,0,0,0.0,0,0.0,0,0,0,0,0,0.0,0,0.0,0,0.0,0,0.0,0,0.0,0,0.0,0,0.0,0,0.0,0,0,0,0.0,0,0.0,0,0.0,0,0,0,0,0,0.0,0,0.0,0,0,0,0,October,0.0,0\n",
      "4,10005,2,2,1.0,0,0.0,0,0,2,100,0,0.0,0,0.0,0,0.0,1,0.5,0,0.0,1,0.5,0,0.0,0,0.0,2,100,1,0.5,1,0.5,0,0.0,0,0,2,100,0,0.0,2,1.0,0,0,2,100,October,0.02,0\n",
      "5,10006,6,2,0.33,4,0.67,0\n"
     ]
    }
   ],
   "source": [
    "with open('Example.csv') as fp:\n",
    "    # do things with 'fp'\n",
    "    data = fp.read()\n",
    "    print(data[0:2000])"
   ]
  },
  {
   "cell_type": "code",
   "execution_count": null,
   "metadata": {
    "collapsed": true
   },
   "outputs": [],
   "source": []
  },
  {
   "cell_type": "code",
   "execution_count": 11,
   "metadata": {},
   "outputs": [
    {
     "name": "stdout",
     "output_type": "stream",
     "text": [
      "The first line of the file only:\n",
      "\n",
      ",JURISDICTION NAME,COUNT PARTICIPANTS,COUNT FEMALE,PERCENT FEMALE,COUNT MALE,PERCENT MALE,COUNT GENDER UNKNOWN,PERCENT GENDER UNKNOWN,COUNT GENDER TOTAL,PERCENT GENDER TOTAL,COUNT PACIFIC ISLANDER,PERCENT PACIFIC ISLANDER,COUNT HISPANIC LATINO,PERCENT HISPANIC LATINO,COUNT AMERICAN INDIAN,PERCENT AMERICAN INDIAN,COUNT ASIAN NON HISPANIC,PERCENT ASIAN NON HISPANIC,COUNT WHITE NON HISPANIC,PERCENT WHITE NON HISPANIC,COUNT BLACK NON HISPANIC,PERCENT BLACK NON HISPANIC,COUNT OTHER ETHNICITY,PERCENT OTHER ETHNICITY,COUNT ETHNICITY UNKNOWN,PERCENT ETHNICITY UNKNOWN,COUNT ETHNICITY TOTAL,PERCENT ETHNICITY TOTAL,COUNT PERMANENT RESIDENT ALIEN,PERCENT PERMANENT RESIDENT ALIEN,COUNT US CITIZEN,PERCENT US CITIZEN,COUNT OTHER CITIZEN STATUS,PERCENT OTHER CITIZEN STATUS,COUNT CITIZEN STATUS UNKNOWN,PERCENT CITIZEN STATUS UNKNOWN,COUNT CITIZEN STATUS TOTAL,PERCENT CITIZEN STATUS TOTAL,COUNT RECEIVES PUBLIC ASSISTANCE,PERCENT RECEIVES PUBLIC ASSISTANCE,COUNT NRECEIVES PUBLIC ASSISTANCE,PERCENT NRECEIVES PUBLIC ASSISTANCE,COUNT PUBLIC ASSISTANCE UNKNOWN,PERCENT PUBLIC ASSISTANCE UNKNOWN,COUNT PUBLIC ASSISTANCE TOTAL,PERCENT PUBLIC ASSISTANCE TOTAL,month_of_survey,norm_participants,AI_PI\n",
      "\n"
     ]
    }
   ],
   "source": [
    "with open('Example.csv') as file:\n",
    "    for line in file:\n",
    "        print(\"The first line of the file only:\\n\")\n",
    "        print(line)\n",
    "        break"
   ]
  },
  {
   "cell_type": "markdown",
   "metadata": {},
   "source": [
    "Let's combine a few of the things we've learned so far, and add line numbers to our printout:"
   ]
  },
  {
   "cell_type": "code",
   "execution_count": 13,
   "metadata": {},
   "outputs": [
    {
     "name": "stdout",
     "output_type": "stream",
     "text": [
      "0: \t ,JURISDICTION NAME,C\n",
      "1: \t 0,10001,44,22,0.5,22\n",
      "2: \t 1,10002,35,19,0.54,1\n",
      "3: \t 2,10003,1,1,1.0,0,0.\n",
      "4: \t 3,10004,0,0,0.0,0,0.\n",
      "5: \t 4,10005,2,2,1.0,0,0.\n",
      "6: \t 5,10006,6,2,0.33,4,0\n",
      "7: \t 6,10007,1,0,0.0,1,1.\n",
      "8: \t 7,10009,2,0,0.0,2,1.\n",
      "9: \t 8,10010,0,0,0.0,0,0.\n",
      "10: \t 9,10011,3,2,0.67,1,0\n",
      "11: \t 10,10012,0,0,0.0,0,0\n",
      "12: \t 11,10013,8,1,0.13,7,\n",
      "13: \t 12,10014,0,0,0.0,0,0\n",
      "14: \t 13,10016,17,12,0.71,\n",
      "15: \t 14,10017,0,0,0.0,0,0\n",
      "16: \t 15,10018,3,2,0.67,1,\n",
      "17: \t 16,10019,0,0,0.0,0,0\n",
      "18: \t 17,10020,0,0,0.0,0,0\n",
      "19: \t 18,10021,0,0,0.0,0,0\n",
      "20: \t 19,10022,1,1,1.0,0,0\n"
     ]
    }
   ],
   "source": [
    "with open('Example.csv') as file:\n",
    "    for i,line in enumerate(file):\n",
    "        print(\"{}: \\t {}\".format(i,line[:20])) #let's only print the first 20 characters for this example\n",
    "        if i >= 20:\n",
    "            break\n",
    "            #and, let's only print the first 20 lines to keep it short"
   ]
  },
  {
   "cell_type": "markdown",
   "metadata": {},
   "source": [
    "We can also write to a file using the .write() method"
   ]
  },
  {
   "cell_type": "code",
   "execution_count": 14,
   "metadata": {
    "collapsed": true
   },
   "outputs": [],
   "source": [
    "with open('test.txt', 'w') as fp:\n",
    "    fp.write('Testing!') "
   ]
  },
  {
   "cell_type": "markdown",
   "metadata": {},
   "source": [
    "Or, we can use the print() function, but redirect the output to the file by passing fp to the print()'s file argument"
   ]
  },
  {
   "cell_type": "code",
   "execution_count": 15,
   "metadata": {
    "collapsed": true
   },
   "outputs": [],
   "source": [
    "with open('test.txt', 'w') as fp:\n",
    "    print('Testing!',file=fp)"
   ]
  },
  {
   "cell_type": "markdown",
   "metadata": {},
   "source": [
    "In the above example, we passed a 'w' to the open() function after the filename. This will create a file 'test.txt', and allow us to write to it. But, if the file test.txt already exists, it will overwrite it permanently. \n",
    "\n",
    "If we want to append to teh end of the file, we will want to pass in an 'a' for append."
   ]
  },
  {
   "cell_type": "code",
   "execution_count": 16,
   "metadata": {},
   "outputs": [],
   "source": [
    "with open('test.txt', 'a') as fp:\n",
    "    print('Appending!',file=fp)"
   ]
  },
  {
   "cell_type": "markdown",
   "metadata": {},
   "source": [
    "And, not let's take a look at our work:"
   ]
  },
  {
   "cell_type": "code",
   "execution_count": 20,
   "metadata": {},
   "outputs": [
    {
     "name": "stdout",
     "output_type": "stream",
     "text": [
      "Testing!\n",
      "Appending!\n",
      "\n",
      "<class 'str'>\n"
     ]
    }
   ],
   "source": [
    "with open('test.txt', 'r') as fp:\n",
    "    alltext = fp.read()\n",
    "    print(alltext)\n",
    "    print(type(alltext))"
   ]
  },
  {
   "cell_type": "markdown",
   "metadata": {
    "collapsed": true
   },
   "source": [
    "There are also methods to readline() one at a time, or to .readlines() all at once. This last one might be helpful for an upcoming homework assignment, so we'll show it here:"
   ]
  },
  {
   "cell_type": "code",
   "execution_count": 22,
   "metadata": {},
   "outputs": [
    {
     "name": "stdout",
     "output_type": "stream",
     "text": [
      "['Testing!\\n', 'Appending!\\n']\n",
      "<class 'list'>\n"
     ]
    }
   ],
   "source": [
    "with open('test.txt', 'r') as fp:\n",
    "    alltext = fp.readlines()\n",
    "    print(alltext)\n",
    "    print(type(alltext))"
   ]
  },
  {
   "cell_type": "markdown",
   "metadata": {},
   "source": [
    "One final note: you'll see the variable name 'fp' used in a lot of examples throughout Google, on StackOverflow, and in textbooks. This is short for \"file pointer,\" as fp \"points\" to the file that we opened with open(). You don't need to remember this, but it's a neat throwback to C/C++, and other languages that use pointer objects everywhere."
   ]
  }
 ],
 "metadata": {
  "kernelspec": {
   "display_name": "Python 3",
   "language": "python",
   "name": "python3"
  },
  "language_info": {
   "codemirror_mode": {
    "name": "ipython",
    "version": 3
   },
   "file_extension": ".py",
   "mimetype": "text/x-python",
   "name": "python",
   "nbconvert_exporter": "python",
   "pygments_lexer": "ipython3",
   "version": "3.7.1"
  }
 },
 "nbformat": 4,
 "nbformat_minor": 2
}

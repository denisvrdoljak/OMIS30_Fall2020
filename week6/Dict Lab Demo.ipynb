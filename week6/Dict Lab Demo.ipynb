{
 "cells": [
  {
   "cell_type": "markdown",
   "metadata": {},
   "source": [
    "### Let's say we have 3 separate lists"
   ]
  },
  {
   "cell_type": "code",
   "execution_count": 23,
   "metadata": {},
   "outputs": [],
   "source": [
    "names_list = ['Ana', 'Audrey', 'Red Dragon', 'Homelander']"
   ]
  },
  {
   "cell_type": "code",
   "execution_count": 24,
   "metadata": {},
   "outputs": [],
   "source": [
    "grade_list = ['B', 'A+', 'C', 'D']"
   ]
  },
  {
   "cell_type": "code",
   "execution_count": 25,
   "metadata": {},
   "outputs": [],
   "source": [
    "skill_list = ['English', 'Party', 'Sleeping', 'Dating']"
   ]
  },
  {
   "cell_type": "markdown",
   "metadata": {},
   "source": [
    "### Now we want to get the skill & grades from student names"
   ]
  },
  {
   "cell_type": "code",
   "execution_count": 26,
   "metadata": {},
   "outputs": [],
   "source": [
    "def get_grade(student):\n",
    "    i = names_list.index(student)\n",
    "    grade = grade_list[i]\n",
    "    skill = skill_list[i]\n",
    "    return (skill, grade)"
   ]
  },
  {
   "cell_type": "code",
   "execution_count": 27,
   "metadata": {},
   "outputs": [
    {
     "data": {
      "text/plain": [
       "('Dating', 'D')"
      ]
     },
     "execution_count": 27,
     "metadata": {},
     "output_type": "execute_result"
    }
   ],
   "source": [
    "get_grade('Homelander')"
   ]
  },
  {
   "cell_type": "markdown",
   "metadata": {},
   "source": [
    "### It would be much easier if we do it with dictionary"
   ]
  },
  {
   "cell_type": "code",
   "execution_count": 28,
   "metadata": {},
   "outputs": [
    {
     "name": "stdout",
     "output_type": "stream",
     "text": [
      "{'Ana': 'English', 'Audrey': 'Party', 'Red Dragon': 'Sleeping', 'Homelander': 'Dating'}\n"
     ]
    }
   ],
   "source": [
    "sampleDict_skill = dict(zip(names_list, course_list))\n",
    "\n",
    "print(sampleDict_skill)"
   ]
  },
  {
   "cell_type": "code",
   "execution_count": 30,
   "metadata": {},
   "outputs": [
    {
     "name": "stdout",
     "output_type": "stream",
     "text": [
      "{'Ana': 'B', 'Audrey': 'A+', 'Red Dragon': 'C', 'Homelander': 'D'}\n"
     ]
    }
   ],
   "source": [
    "sampleDict_grade = dict(zip(names_list, grade_list))\n",
    "\n",
    "print(sampleDict_grade)"
   ]
  },
  {
   "cell_type": "code",
   "execution_count": 35,
   "metadata": {},
   "outputs": [
    {
     "data": {
      "text/plain": [
       "'Dating   ,   D'"
      ]
     },
     "execution_count": 35,
     "metadata": {},
     "output_type": "execute_result"
    }
   ],
   "source": [
    "sampleDict_skill['Homelander'] + \"   ,   \" + sampleDict_grade['Homelander']"
   ]
  },
  {
   "cell_type": "markdown",
   "metadata": {},
   "source": [
    "### Write a function using dicts?"
   ]
  },
  {
   "cell_type": "code",
   "execution_count": 38,
   "metadata": {},
   "outputs": [
    {
     "name": "stdout",
     "output_type": "stream",
     "text": [
      "D,Dating\n"
     ]
    }
   ],
   "source": [
    "def get_grade(student):\n",
    "    x = sampleDict_grade[student]\n",
    "    y = sampleDict_skill[student]\n",
    "    print(x + \",\" + y)\n",
    "    \n",
    "get_grade(\"Homelander\")\n",
    "    \n",
    "\n",
    "    \n",
    "    "
   ]
  }
 ],
 "metadata": {
  "kernelspec": {
   "display_name": "Python 3",
   "language": "python",
   "name": "python3"
  },
  "language_info": {
   "codemirror_mode": {
    "name": "ipython",
    "version": 3
   },
   "file_extension": ".py",
   "mimetype": "text/x-python",
   "name": "python",
   "nbconvert_exporter": "python",
   "pygments_lexer": "ipython3",
   "version": "3.8.3"
  }
 },
 "nbformat": 4,
 "nbformat_minor": 4
}

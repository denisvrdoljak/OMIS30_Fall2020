{
 "cells": [
  {
   "cell_type": "markdown",
   "metadata": {},
   "source": [
    "# Parsing a CSV WITH LOOPS\n",
    "\n",
    "### Let's revisit this problem from earlier. This time, your solution may NOT use indexing, and must use a FOR loop!"
   ]
  },
  {
   "cell_type": "markdown",
   "metadata": {},
   "source": [
    "Csv files are pretty easy to import into Python. There are several libraries and modules that will handle this for you. But, let's take a look at how to parse strings of csv data from scratch.\n",
    "\n",
    "Csv (comma separated value) files use commas to separate values (columns) on each line. Every line then ends in a new line character, which looks like this in Python: \"\\n\"\n",
    "\n",
    "Here is a string that represents/simulates an uploaded csv file as raw text (a single string, instead of an array). Run the cell to create the \"data\" string."
   ]
  },
  {
   "cell_type": "code",
   "execution_count": 2,
   "metadata": {},
   "outputs": [],
   "source": [
    "# from data.gov\n",
    "# https://catalog.data.gov/dataset/demographic-statistics-by-zip-code-acfc9\n",
    "# https://data.cityofnewyork.us/api/views/kku6-nxdu/rows.csv?accessType=DOWNLOAD\n",
    "\n",
    "data = \"\"\"\n",
    "Zip Code,Total Population,Median Age,Total Males,Total Females,Total Households,Average Household Size\n",
    "90001,57110,26.6,28468,28642,12971,4.4\n",
    "90002,51223,25.5,24876,26347,11731,4.36\n",
    "90003,66266,26.3,32631,33635,15642,4.22\n",
    "\"\"\".strip()"
   ]
  },
  {
   "cell_type": "markdown",
   "metadata": {},
   "source": [
    "Using the 'data' variable, use a combination of the string.split() method/function, indexing, and splicing to create the following.\n",
    "\n",
    "<b> You may not define any new strings. </b>\n",
    "\n",
    "(Expected outputs are in this notbook to help you understand what is expected.)"
   ]
  },
  {
   "cell_type": "markdown",
   "metadata": {},
   "source": [
    "# 1. Column names\n",
    "* Create a list of strings, containing the column names\n",
    "* Make sure you do this by manipulating the 'data' variable, not by defining new strings"
   ]
  },
  {
   "cell_type": "code",
   "execution_count": 6,
   "metadata": {},
   "outputs": [
    {
     "data": {
      "text/plain": [
       "['Zip Code',\n",
       " 'Total Population',\n",
       " 'Median Age',\n",
       " 'Total Males',\n",
       " 'Total Females',\n",
       " 'Total Households',\n",
       " 'Average Household Size']"
      ]
     },
     "execution_count": 6,
     "metadata": {},
     "output_type": "execute_result"
    }
   ],
   "source": [
    "# Your code goes here"
   ]
  },
  {
   "cell_type": "markdown",
   "metadata": {},
   "source": [
    "## 2. Creating an Array\n",
    "* Manipulating the 'data' variable, create a list of lists of strings, where each string is a cell in the csv/table."
   ]
  },
  {
   "cell_type": "code",
   "execution_count": 7,
   "metadata": {},
   "outputs": [
    {
     "data": {
      "text/plain": [
       "[['Zip Code',\n",
       "  'Total Population',\n",
       "  'Median Age',\n",
       "  'Total Males',\n",
       "  'Total Females',\n",
       "  'Total Households',\n",
       "  'Average Household Size'],\n",
       " ['90001', '57110', '26.6', '28468', '28642', '12971', '4.4'],\n",
       " ['90002', '51223', '25.5', '24876', '26347', '11731', '4.36'],\n",
       " ['90003', '66266', '26.3', '32631', '33635', '15642', '4.22']]"
      ]
     },
     "execution_count": 7,
     "metadata": {},
     "output_type": "execute_result"
    }
   ],
   "source": [
    "# Your code goes here"
   ]
  },
  {
   "cell_type": "markdown",
   "metadata": {},
   "source": [
    "## 3. Just the Data\n",
    "* Let's say we want just the raw data, and don't want the column names. \n",
    "* Create a list of lists of strings (like above), but without the column header"
   ]
  },
  {
   "cell_type": "code",
   "execution_count": 6,
   "metadata": {},
   "outputs": [
    {
     "data": {
      "text/plain": [
       "[['90001', '57110', '26.6', '28468', '28642', '12971', '4.4'],\n",
       " ['90002', '51223', '25.5', '24876', '26347', '11731', '4.36'],\n",
       " ['90003', '66266', '26.3', '32631', '33635', '15642', '4.22']]"
      ]
     },
     "execution_count": 6,
     "metadata": {},
     "output_type": "execute_result"
    }
   ],
   "source": [
    "# Your code goes here"
   ]
  }
 ],
 "metadata": {
  "kernelspec": {
   "display_name": "Python 3",
   "language": "python",
   "name": "python3"
  },
  "language_info": {
   "codemirror_mode": {
    "name": "ipython",
    "version": 3
   },
   "file_extension": ".py",
   "mimetype": "text/x-python",
   "name": "python",
   "nbconvert_exporter": "python",
   "pygments_lexer": "ipython3",
   "version": "3.7.1"
  }
 },
 "nbformat": 4,
 "nbformat_minor": 2
}
